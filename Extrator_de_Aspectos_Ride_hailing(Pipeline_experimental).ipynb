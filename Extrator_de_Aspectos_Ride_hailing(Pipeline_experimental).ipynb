{
  "cells": [
    {
      "cell_type": "markdown",
      "metadata": {
        "id": "view-in-github",
        "colab_type": "text"
      },
      "source": [
        "<a href=\"https://colab.research.google.com/github/MatheusLCouto/TAIA/blob/main/Extrator_de_Aspectos_Ride_hailing(Pipeline_experimental).ipynb\" target=\"_parent\"><img src=\"https://colab.research.google.com/assets/colab-badge.svg\" alt=\"Open In Colab\"/></a>"
      ]
    },
    {
      "cell_type": "markdown",
      "metadata": {
        "id": "jVl8-qMmcb83"
      },
      "source": [
        "Dividir CSV em Partes proporcionais"
      ]
    },
    {
      "cell_type": "code",
      "execution_count": null,
      "metadata": {
        "colab": {
          "base_uri": "https://localhost:8080/"
        },
        "id": "rh-Y2pae3VR1",
        "outputId": "af586169-d43f-4fd7-a29b-c5d6f967fb96"
      },
      "outputs": [
        {
          "name": "stdout",
          "output_type": "stream",
          "text": [
            "Mounted at /content/drive\n"
          ]
        }
      ],
      "source": [
        "from google.colab import drive\n",
        "drive.mount('/content/drive')"
      ]
    },
    {
      "cell_type": "code",
      "execution_count": null,
      "metadata": {
        "id": "hyd9AMvob-Oo"
      },
      "outputs": [],
      "source": [
        "import pandas as pd\n",
        "import re\n",
        "import unicodedata"
      ]
    },
    {
      "cell_type": "code",
      "execution_count": null,
      "metadata": {
        "id": "jn5I-6ZS1L-3"
      },
      "outputs": [],
      "source": [
        "def filter_ubereats_complaints(input_path: str, output_path: str, text_column: str = \"report_text\"):\n",
        "\n",
        "    keywords = [\n",
        "        \"entregador\", \"motoboy\", \"comida\", \"almoço\", \"almoco\",\n",
        "        \"pedido\", \"encomenda\", \"falha na entrega\", \"eats\", \"Uber-eats\", \"Eats\"\n",
        "    ]\n",
        "\n",
        "    pattern = r\"\\b(\" + \"|\".join(keywords) + r\")\\b\"\n",
        "\n",
        "    def normalize(text: str) -> str:\n",
        "        text = str(text).lower()\n",
        "        return unicodedata.normalize(\"NFKD\", text).encode(\"ASCII\", \"ignore\").decode(\"utf-8\")\n",
        "\n",
        "    def is_ubereats_related(text: str) -> bool:\n",
        "        return bool(re.search(pattern, normalize(text)))\n",
        "\n",
        "\n",
        "    df = pd.read_csv(input_path)\n",
        "    original_count = len(df)\n",
        "\n",
        "    filtered_df = df[~df[text_column].apply(is_ubereats_related)].copy()\n",
        "\n",
        "    filtered_df.to_csv(output_path, index=False)\n",
        "\n",
        "    removed = original_count - len(filtered_df)\n",
        "\n",
        "    print(f\"Removido: {removed} reclamacoes\")\n",
        "    print(f\"Salvo em: {output_path}\")"
      ]
    },
    {
      "cell_type": "code",
      "execution_count": null,
      "metadata": {
        "colab": {
          "base_uri": "https://localhost:8080/"
        },
        "id": "Xc-Zi79t2ERl",
        "outputId": "cd9ccb79-9b4e-40b7-abff-4f36138d2e0c"
      },
      "outputs": [
        {
          "name": "stdout",
          "output_type": "stream",
          "text": [
            "Removido: 11986 reclamacoes\n",
            "Salvo em: /content/drive/MyDrive/ride_hailing/Data/Uber_complaint_filtered.csv\n"
          ]
        }
      ],
      "source": [
        "filter_ubereats_complaints(\n",
        "    input_path=\"/content/drive/MyDrive/ride_hailing/Data/Uber_complaint.csv\",\n",
        "    output_path=\"/content/drive/MyDrive/ride_hailing/Data/Uber_complaint_filtered.csv\",\n",
        "    text_column=\"report_text\"\n",
        ")"
      ]
    },
    {
      "cell_type": "code",
      "execution_count": null,
      "metadata": {
        "id": "-ccW6wHc2jnz"
      },
      "outputs": [],
      "source": [
        "App = pd.read_csv('/content/drive/MyDrive/ride_hailing/Data/99App_complaint.csv')\n",
        "Uber = pd.read_csv('/content/drive/MyDrive/ride_hailing/Data/Uber_complaint_filtered.csv')"
      ]
    },
    {
      "cell_type": "code",
      "execution_count": null,
      "metadata": {
        "id": "IamKcS-wcT47"
      },
      "outputs": [],
      "source": [
        "df_ride= pd.concat([App, Uber])"
      ]
    },
    {
      "cell_type": "code",
      "execution_count": null,
      "metadata": {
        "colab": {
          "base_uri": "https://localhost:8080/"
        },
        "id": "vIwn3E8ycVRN",
        "outputId": "abdfc3f9-4465-4b55-ebb6-764463f60f6d"
      },
      "outputs": [
        {
          "name": "stdout",
          "output_type": "stream",
          "text": [
            "<class 'pandas.core.frame.DataFrame'>\n",
            "Index: 39412 entries, 0 to 30636\n",
            "Data columns (total 8 columns):\n",
            " #   Column                  Non-Null Count  Dtype \n",
            "---  ------                  --------------  ----- \n",
            " 0   name_company            39412 non-null  object\n",
            " 1   report_status           39412 non-null  object\n",
            " 2   report_text             39412 non-null  object\n",
            " 3   report_date             39412 non-null  object\n",
            " 4   reponse_company         39412 non-null  object\n",
            " 5   reponse_company_date    39412 non-null  object\n",
            " 6   service_note            39412 non-null  object\n",
            " 7   consumer_consideration  39411 non-null  object\n",
            "dtypes: object(8)\n",
            "memory usage: 2.7+ MB\n"
          ]
        }
      ],
      "source": [
        "df_ride.info()"
      ]
    },
    {
      "cell_type": "code",
      "execution_count": null,
      "metadata": {
        "id": "dDJYQ5835jnG"
      },
      "outputs": [],
      "source": [
        "df_ride.to_csv('df_ride.csv', index=False)"
      ]
    },
    {
      "cell_type": "code",
      "execution_count": null,
      "metadata": {
        "id": "sErkgfL79-JZ"
      },
      "outputs": [],
      "source": [
        "df_ride = pd.read_csv('df_ride.csv')"
      ]
    },
    {
      "cell_type": "code",
      "execution_count": null,
      "metadata": {
        "id": "dKy3_okicYLx"
      },
      "outputs": [],
      "source": [
        "# import pandas as pd\n",
        "\n",
        "# # Função para dividir o dataset proporcionalmente\n",
        "# def dividir_dataset_proporcional(dataset, tamanho_parte, coluna_empresa):\n",
        "#     partes = []  # Lista para armazenar as partes\n",
        "#     dataset = dataset.sample(frac=1, random_state=42).reset_index(drop=True)  # Embaralhar o dataset\n",
        "\n",
        "#     # Iterar até que o dataset esteja vazio\n",
        "#     while not dataset.empty:\n",
        "#         parte_atual = pd.DataFrame()  # Inicializar a parte atual\n",
        "#         empresas = dataset[coluna_empresa].unique()  # Empresas únicas no dataset restante\n",
        "\n",
        "#         # Selecionar amostras proporcionalmente para cada empresa\n",
        "#         for empresa in empresas:\n",
        "#             subset_empresa = dataset[dataset[coluna_empresa] == empresa]\n",
        "#             proporcao = len(subset_empresa) / len(dataset)\n",
        "#             tamanho_amostra = int(round(proporcao * tamanho_parte))\n",
        "\n",
        "#             # Selecionar amostras\n",
        "#             amostra = subset_empresa.head(tamanho_amostra)\n",
        "#             parte_atual = pd.concat([parte_atual, amostra])\n",
        "\n",
        "#             # Remover amostras do dataset original\n",
        "#             dataset = dataset.drop(amostra.index)\n",
        "\n",
        "#         # Adicionar a parte atual à lista de partes\n",
        "#         partes.append(parte_atual)\n",
        "\n",
        "#     return partes\n",
        "\n",
        "# # Carregar o dataset (substitua 'seu_arquivo.csv' pelo arquivo real se necessário)\n",
        "# complete = pd.read_csv(\"df_ride.csv\")  # Certifique-se de que o arquivo contém os campos especificados\n",
        "\n",
        "# # Dividindo o dataset em partes de 3.000 linhas\n",
        "# partes = dividir_dataset_proporcional(complete, tamanho_parte=6000, coluna_empresa=\"name_company\")\n",
        "\n",
        "# # Verificando os resultados\n",
        "# for i, parte in enumerate(partes):\n",
        "#     nome_arquivo = f\"subset_parte_{i + 1}.csv\"\n",
        "#     parte.to_csv(nome_arquivo, index=False)\n",
        "#     print(f\"Salvo: {nome_arquivo}\")"
      ]
    },
    {
      "cell_type": "markdown",
      "metadata": {
        "id": "RkPcMKPock0k"
      },
      "source": [
        "Carregar Ollama"
      ]
    },
    {
      "cell_type": "code",
      "execution_count": null,
      "metadata": {
        "colab": {
          "base_uri": "https://localhost:8080/"
        },
        "id": "gWoJo5ipDjcj",
        "outputId": "2fba21bd-82cd-4d75-d29c-d8544d9bd181"
      },
      "outputs": [
        {
          "name": "stdout",
          "output_type": "stream",
          "text": [
            "Salvo: /content/drive/MyDrive/ride_hailing/Subsets/subset_parte_1.csv\n",
            "Salvo: /content/drive/MyDrive/ride_hailing/Subsets/subset_parte_2.csv\n",
            "Salvo: /content/drive/MyDrive/ride_hailing/Subsets/subset_parte_3.csv\n",
            "Salvo: /content/drive/MyDrive/ride_hailing/Subsets/subset_parte_4.csv\n",
            "Salvo: /content/drive/MyDrive/ride_hailing/Subsets/subset_parte_5.csv\n",
            "Salvo: /content/drive/MyDrive/ride_hailing/Subsets/subset_parte_6.csv\n",
            "Salvo: /content/drive/MyDrive/ride_hailing/Subsets/subset_parte_7.csv\n"
          ]
        }
      ],
      "source": [
        "import pandas as pd\n",
        "import os\n",
        "\n",
        "# Caminho da pasta no Google Drive\n",
        "pasta_destino = \"/content/drive/MyDrive/ride_hailing/Subsets\"\n",
        "\n",
        "# Criar a pasta caso não exista\n",
        "os.makedirs(pasta_destino, exist_ok=True)\n",
        "\n",
        "# Função para dividir o dataset proporcionalmente\n",
        "def dividir_dataset_proporcional(dataset, tamanho_parte, coluna_empresa):\n",
        "    partes = []\n",
        "    dataset = dataset.sample(frac=1, random_state=42).reset_index(drop=True)\n",
        "\n",
        "    while not dataset.empty:\n",
        "        parte_atual = pd.DataFrame()\n",
        "        empresas = dataset[coluna_empresa].unique()\n",
        "\n",
        "        for empresa in empresas:\n",
        "            subset_empresa = dataset[dataset[coluna_empresa] == empresa]\n",
        "            proporcao = len(subset_empresa) / len(dataset)\n",
        "            tamanho_amostra = int(round(proporcao * tamanho_parte))\n",
        "\n",
        "            amostra = subset_empresa.head(tamanho_amostra)\n",
        "            parte_atual = pd.concat([parte_atual, amostra])\n",
        "            dataset = dataset.drop(amostra.index)\n",
        "\n",
        "        partes.append(parte_atual)\n",
        "\n",
        "    return partes\n",
        "\n",
        "# Carregar o dataset\n",
        "complete = pd.read_csv(\"df_ride.csv\")\n",
        "\n",
        "# Dividindo o dataset\n",
        "partes = dividir_dataset_proporcional(complete, tamanho_parte=6000, coluna_empresa=\"name_company\")\n",
        "\n",
        "# Salvando os arquivos no Google Drive\n",
        "for i, parte in enumerate(partes):\n",
        "    nome_arquivo = f\"subset_parte_{i + 1}.csv\"\n",
        "    caminho_completo = os.path.join(pasta_destino, nome_arquivo)\n",
        "    parte.to_csv(caminho_completo, index=False)\n",
        "    print(f\"Salvo: {caminho_completo}\")\n"
      ]
    },
    {
      "cell_type": "code",
      "execution_count": null,
      "metadata": {
        "colab": {
          "base_uri": "https://localhost:8080/"
        },
        "id": "XHDzlLCsR2Kc",
        "outputId": "7aa18d5a-b0f5-487f-dff2-0b16fa33c7c6"
      },
      "outputs": [
        {
          "name": "stdout",
          "output_type": "stream",
          "text": [
            "  % Total    % Received % Xferd  Average Speed   Time    Time     Time  Current\n",
            "                                 Dload  Upload   Total   Spent    Left  Speed\n",
            "\r  0     0    0     0    0     0      0      0 --:--:-- --:--:-- --:--:--     0\r100 13281    0 13281    0     0  85721      0 --:--:-- --:--:-- --:--:-- 86240\n",
            ">>> Installing ollama to /usr/local\n",
            ">>> Downloading Linux amd64 bundle\n",
            "######################################################################## 100.0%\n",
            ">>> Creating ollama user...\n",
            ">>> Adding ollama user to video group...\n",
            ">>> Adding current user to ollama group...\n",
            ">>> Creating ollama systemd service...\n",
            "\u001b[1m\u001b[31mWARNING:\u001b[m systemd is not running\n",
            "\u001b[1m\u001b[31mWARNING:\u001b[m Unable to detect NVIDIA/AMD GPU. Install lspci or lshw to automatically detect and install GPU dependencies.\n",
            ">>> The Ollama API is now available at 127.0.0.1:11434.\n",
            ">>> Install complete. Run \"ollama\" from the command line.\n"
          ]
        }
      ],
      "source": [
        "!curl https://ollama.ai/install.sh | sh"
      ]
    },
    {
      "cell_type": "code",
      "execution_count": null,
      "metadata": {
        "id": "4I_oHYkkUD-4"
      },
      "outputs": [],
      "source": [
        "!nohup ollama serve &> ollama.serve.log &"
      ]
    },
    {
      "cell_type": "code",
      "execution_count": null,
      "metadata": {
        "colab": {
          "base_uri": "https://localhost:8080/"
        },
        "id": "v4ugBbRwUJab",
        "outputId": "9e899ba3-4f32-4cb8-a375-4d1aa6ed0dee"
      },
      "outputs": [
        {
          "name": "stdout",
          "output_type": "stream",
          "text": [
            "Couldn't find '/root/.ollama/id_ed25519'. Generating new private key.\n",
            "Your new public key is: \n",
            "\n",
            "ssh-ed25519 AAAAC3NzaC1lZDI1NTE5AAAAIMozRhQtVGCIPDCr2JKuM+tmDp3gnqhIHZX76wTrwN+H\n",
            "\n",
            "time=2025-06-21T13:53:59.348Z level=INFO source=routes.go:1235 msg=\"server config\" env=\"map[CUDA_VISIBLE_DEVICES: GPU_DEVICE_ORDINAL: HIP_VISIBLE_DEVICES: HSA_OVERRIDE_GFX_VERSION: HTTPS_PROXY: HTTP_PROXY: NO_PROXY: OLLAMA_CONTEXT_LENGTH:4096 OLLAMA_DEBUG:INFO OLLAMA_FLASH_ATTENTION:false OLLAMA_GPU_OVERHEAD:0 OLLAMA_HOST:http://127.0.0.1:11434 OLLAMA_INTEL_GPU:false OLLAMA_KEEP_ALIVE:5m0s OLLAMA_KV_CACHE_TYPE: OLLAMA_LLM_LIBRARY: OLLAMA_LOAD_TIMEOUT:5m0s OLLAMA_MAX_LOADED_MODELS:0 OLLAMA_MAX_QUEUE:512 OLLAMA_MODELS:/root/.ollama/models OLLAMA_MULTIUSER_CACHE:false OLLAMA_NEW_ENGINE:false OLLAMA_NOHISTORY:false OLLAMA_NOPRUNE:false OLLAMA_NUM_PARALLEL:0 OLLAMA_ORIGINS:[http://localhost https://localhost http://localhost:* https://localhost:* http://127.0.0.1 https://127.0.0.1 http://127.0.0.1:* https://127.0.0.1:* http://0.0.0.0 https://0.0.0.0 http://0.0.0.0:* https://0.0.0.0:* app://* file://* tauri://* vscode-webview://* vscode-file://*] OLLAMA_SCHED_SPREAD:false ROCR_VISIBLE_DEVICES: http_proxy: https_proxy: no_proxy:]\"\n",
            "time=2025-06-21T13:53:59.348Z level=INFO source=images.go:480 msg=\"total blobs: 0\"\n",
            "time=2025-06-21T13:53:59.348Z level=INFO source=images.go:487 msg=\"total unused blobs removed: 0\"\n",
            "time=2025-06-21T13:53:59.348Z level=INFO source=routes.go:1288 msg=\"Listening on 127.0.0.1:11434 (version 0.9.2)\"\n",
            "time=2025-06-21T13:53:59.348Z level=INFO source=gpu.go:217 msg=\"looking for compatible GPUs\"\n"
          ]
        }
      ],
      "source": [
        "!cat ollama.serve.log"
      ]
    },
    {
      "cell_type": "code",
      "execution_count": null,
      "metadata": {
        "colab": {
          "base_uri": "https://localhost:8080/"
        },
        "id": "k6o0f46bU59c",
        "outputId": "e6a39140-b66c-4234-ac5a-ddac332add0f"
      },
      "outputs": [
        {
          "name": "stdout",
          "output_type": "stream",
          "text": [
            "nohup: redirecting stderr to stdout\n"
          ]
        }
      ],
      "source": [
        "# mudar o modelo como no exemplo, alterando apos o run\n",
        "# !nohup ollama run deepseek-coder:latest > deepseek.log &\n",
        "!nohup ollama run llama3.1 > llama3.1.log &"
      ]
    },
    {
      "cell_type": "code",
      "execution_count": null,
      "metadata": {
        "id": "mYknfxaqj4A6"
      },
      "outputs": [],
      "source": [
        "# !ollama run llama3.1:8b-text-fp16"
      ]
    },
    {
      "cell_type": "code",
      "execution_count": null,
      "metadata": {
        "collapsed": true,
        "id": "TYm2_asbVlRJ"
      },
      "outputs": [],
      "source": [
        "# se mudar o modelo, precisa mudar o cat\n",
        "# !cat deepseek.log\n",
        "!cat llama3.1.log\n",
        "# !cat llama3.1:8b-text-fp16"
      ]
    },
    {
      "cell_type": "code",
      "execution_count": null,
      "metadata": {
        "colab": {
          "base_uri": "https://localhost:8080/"
        },
        "id": "18N3N-xmULRj",
        "outputId": "a2a9ce5f-f9d7-4563-863f-79ae9eda9e57"
      },
      "outputs": [
        {
          "name": "stdout",
          "output_type": "stream",
          "text": [
            "Collecting openai==0.28\n",
            "  Downloading openai-0.28.0-py3-none-any.whl.metadata (13 kB)\n",
            "Requirement already satisfied: requests>=2.20 in /usr/local/lib/python3.11/dist-packages (from openai==0.28) (2.32.3)\n",
            "Requirement already satisfied: tqdm in /usr/local/lib/python3.11/dist-packages (from openai==0.28) (4.67.1)\n",
            "Requirement already satisfied: aiohttp in /usr/local/lib/python3.11/dist-packages (from openai==0.28) (3.11.15)\n",
            "Requirement already satisfied: charset-normalizer<4,>=2 in /usr/local/lib/python3.11/dist-packages (from requests>=2.20->openai==0.28) (3.4.2)\n",
            "Requirement already satisfied: idna<4,>=2.5 in /usr/local/lib/python3.11/dist-packages (from requests>=2.20->openai==0.28) (3.10)\n",
            "Requirement already satisfied: urllib3<3,>=1.21.1 in /usr/local/lib/python3.11/dist-packages (from requests>=2.20->openai==0.28) (2.4.0)\n",
            "Requirement already satisfied: certifi>=2017.4.17 in /usr/local/lib/python3.11/dist-packages (from requests>=2.20->openai==0.28) (2025.6.15)\n",
            "Requirement already satisfied: aiohappyeyeballs>=2.3.0 in /usr/local/lib/python3.11/dist-packages (from aiohttp->openai==0.28) (2.6.1)\n",
            "Requirement already satisfied: aiosignal>=1.1.2 in /usr/local/lib/python3.11/dist-packages (from aiohttp->openai==0.28) (1.3.2)\n",
            "Requirement already satisfied: attrs>=17.3.0 in /usr/local/lib/python3.11/dist-packages (from aiohttp->openai==0.28) (25.3.0)\n",
            "Requirement already satisfied: frozenlist>=1.1.1 in /usr/local/lib/python3.11/dist-packages (from aiohttp->openai==0.28) (1.7.0)\n",
            "Requirement already satisfied: multidict<7.0,>=4.5 in /usr/local/lib/python3.11/dist-packages (from aiohttp->openai==0.28) (6.4.4)\n",
            "Requirement already satisfied: propcache>=0.2.0 in /usr/local/lib/python3.11/dist-packages (from aiohttp->openai==0.28) (0.3.2)\n",
            "Requirement already satisfied: yarl<2.0,>=1.17.0 in /usr/local/lib/python3.11/dist-packages (from aiohttp->openai==0.28) (1.20.1)\n",
            "Downloading openai-0.28.0-py3-none-any.whl (76 kB)\n",
            "\u001b[2K   \u001b[90m━━━━━━━━━━━━━━━━━━━━━━━━━━━━━━━━━━━━━━━━\u001b[0m \u001b[32m76.5/76.5 kB\u001b[0m \u001b[31m2.1 MB/s\u001b[0m eta \u001b[36m0:00:00\u001b[0m\n",
            "\u001b[?25hInstalling collected packages: openai\n",
            "  Attempting uninstall: openai\n",
            "    Found existing installation: openai 1.86.0\n",
            "    Uninstalling openai-1.86.0:\n",
            "      Successfully uninstalled openai-1.86.0\n",
            "Successfully installed openai-0.28.0\n"
          ]
        }
      ],
      "source": [
        "!pip install openai==0.28"
      ]
    },
    {
      "cell_type": "code",
      "execution_count": null,
      "metadata": {
        "colab": {
          "base_uri": "https://localhost:8080/"
        },
        "id": "srmQ7h7zWigJ",
        "outputId": "050f446c-b754-4250-e192-190819e9692a"
      },
      "outputs": [
        {
          "name": "stdout",
          "output_type": "stream",
          "text": [
            "Drive already mounted at /content/drive; to attempt to forcibly remount, call drive.mount(\"/content/drive\", force_remount=True).\n"
          ]
        }
      ],
      "source": [
        "from google.colab import drive\n",
        "drive.mount('/content/drive')"
      ]
    },
    {
      "cell_type": "code",
      "execution_count": null,
      "metadata": {
        "colab": {
          "base_uri": "https://localhost:8080/"
        },
        "id": "A5v87gTIWhWz",
        "outputId": "4551b315-abf5-458f-fce0-e2426b15f9ec"
      },
      "outputs": [
        {
          "name": "stdout",
          "output_type": "stream",
          "text": [
            "\u001b[?2026h\u001b[?25l\u001b[1G\u001b[?25h\u001b[?2026l\u001b[?2026h\u001b[?25l\u001b[1G\u001b[?25h\u001b[?2026l\u001b[?2026h\u001b[?25l\u001b[1G\u001b[?25h\u001b[?2026l\u001b[?2026h\u001b[?25l\u001b[A\u001b[1G\u001b[?25h\u001b[?2026l\u001b[?2026h\u001b[?25l\u001b[A\u001b[1G\u001b[?25h\u001b[?2026l\u001b[?2026h\u001b[?25l\u001b[A\u001b[1G\u001b[?25h\u001b[?2026l\u001b[?2026h\u001b[?25l\u001b[A\u001b[A\u001b[1G\u001b[?25h\u001b[?2026l\u001b[?2026h\u001b[?25l\u001b[A\u001b[A\u001b[1G\u001b[?25h\u001b[?2026l\u001b[?2026h\u001b[?25l\u001b[A\u001b[A\u001b[1G\u001b[?25h\u001b[?2026l\u001b[?2026h\u001b[?25l\u001b[A\u001b[A\u001b[1G\u001b[?25h\u001b[?2026l\u001b[?2026h\u001b[?25l\u001b[A\u001b[A\u001b[1G\u001b[?25h\u001b[?2026l\u001b[?2026h\u001b[?25l\u001b[A\u001b[A\u001b[1G\u001b[?25h\u001b[?2026l\u001b[?2026h\u001b[?25l\u001b[A\u001b[A\u001b[1G\u001b[?25h\u001b[?2026l\u001b[?2026h\u001b[?25l\u001b[A\u001b[A\u001b[1G\u001b[?25h\u001b[?2026l\u001b[?2026h\u001b[?25l\u001b[A\u001b[A\u001b[1G\u001b[?25h\u001b[?2026l\u001b[?2026h\u001b[?25l\u001b[A\u001b[A\u001b[1G\u001b[?25h\u001b[?2026l\u001b[?2026h\u001b[?25l\u001b[A\u001b[A\u001b[1G\u001b[?25h\u001b[?2026l\u001b[?2026h\u001b[?25l\u001b[A\u001b[A\u001b[1G\u001b[?25h\u001b[?2026l\u001b[?2026h\u001b[?25l\u001b[A\u001b[A\u001b[1G\u001b[?25h\u001b[?2026l\u001b[?2026h\u001b[?25l\u001b[A\u001b[A\u001b[1G\u001b[?25h\u001b[?2026l\u001b[?2026h\u001b[?25l\u001b[A\u001b[A\u001b[1G\u001b[?25h\u001b[?2026l\u001b[?2026h\u001b[?25l\u001b[A\u001b[A\u001b[1G\u001b[?25h\u001b[?2026l\u001b[?2026h\u001b[?25l\u001b[A\u001b[A\u001b[1G\u001b[?25h\u001b[?2026l\u001b[?2026h\u001b[?25l\u001b[A\u001b[A\u001b[1G\u001b[?25h\u001b[?2026l\u001b[?2026h\u001b[?25l\u001b[A\u001b[A\u001b[1G\u001b[?25h\u001b[?2026l\u001b[?2026h\u001b[?25l\u001b[A\u001b[A\u001b[1G\u001b[?25h\u001b[?2026l\u001b[?2026h\u001b[?25l\u001b[A\u001b[A\u001b[1G\u001b[?25h\u001b[?2026l\u001b[?2026h\u001b[?25l\u001b[A\u001b[A\u001b[1G\u001b[?25h\u001b[?2026l\u001b[?2026h\u001b[?25l\u001b[A\u001b[A\u001b[1G\u001b[?25h\u001b[?2026l\u001b[?2026h\u001b[?25l\u001b[A\u001b[A\u001b[1G\u001b[?25h\u001b[?2026l\u001b[?2026h\u001b[?25l\u001b[A\u001b[A\u001b[1G\u001b[?25h\u001b[?2026l\u001b[?2026h\u001b[?25l\u001b[A\u001b[A\u001b[1G\u001b[?25h\u001b[?2026l\u001b[?2026h\u001b[?25l\u001b[A\u001b[A\u001b[1G\u001b[?25h\u001b[?2026l\u001b[?2026h\u001b[?25l\u001b[A\u001b[A\u001b[1G\u001b[?25h\u001b[?2026l\u001b[?2026h\u001b[?25l\u001b[A\u001b[A\u001b[1G\u001b[?25h\u001b[?2026l\u001b[?2026h\u001b[?25l\u001b[A\u001b[A\u001b[1G\u001b[?25h\u001b[?2026l\u001b[?2026h\u001b[?25l\u001b[A\u001b[A\u001b[1G\u001b[?25h\u001b[?2026l\u001b[?2026h\u001b[?25l\u001b[A\u001b[A\u001b[1G\u001b[?25h\u001b[?2026l\u001b[?2026h\u001b[?25l\u001b[A\u001b[A\u001b[1G\u001b[?25h\u001b[?2026l\u001b[?2026h\u001b[?25l\u001b[A\u001b[A\u001b[1G\u001b[?25h\u001b[?2026l\u001b[?2026h\u001b[?25l\u001b[A\u001b[A\u001b[1G\u001b[?25h\u001b[?2026l\u001b[?2026h\u001b[?25l\u001b[A\u001b[A\u001b[1G\u001b[?25h\u001b[?2026l\u001b[?2026h\u001b[?25l\u001b[A\u001b[A\u001b[1G\u001b[?25h\u001b[?2026l\u001b[?2026h\u001b[?25l\u001b[A\u001b[A\u001b[1G\u001b[?25h\u001b[?2026l\u001b[?2026h\u001b[?25l\u001b[A\u001b[A\u001b[1G\u001b[?25h\u001b[?2026l\u001b[?2026h\u001b[?25l\u001b[A\u001b[A\u001b[1G\u001b[?25h\u001b[?2026l\u001b[?2026h\u001b[?25l\u001b[A\u001b[A\u001b[1G\u001b[?25h\u001b[?2026l\u001b[?2026h\u001b[?25l\u001b[A\u001b[A\u001b[1G\u001b[?25h\u001b[?2026l\u001b[?2026h\u001b[?25l\u001b[A\u001b[A\u001b[1G\u001b[?25h\u001b[?2026l\u001b[?2026h\u001b[?25l\u001b[A\u001b[A\u001b[1G\u001b[?25h\u001b[?2026l\u001b[?2026h\u001b[?25l\u001b[A\u001b[A\u001b[1G\u001b[?25h\u001b[?2026l\u001b[?2026h\u001b[?25l\u001b[A\u001b[A\u001b[1G\u001b[?25h\u001b[?2026l\u001b[?2026h\u001b[?25l\u001b[A\u001b[A\u001b[1G\u001b[?25h\u001b[?2026l\u001b[?2026h\u001b[?25l\u001b[A\u001b[A\u001b[1G\u001b[?25h\u001b[?2026l\u001b[?2026h\u001b[?25l\u001b[A\u001b[A\u001b[1G\u001b[?25h\u001b[?2026l\u001b[?2026h\u001b[?25l\u001b[A\u001b[A\u001b[1G\u001b[?25h\u001b[?2026l\u001b[?2026h\u001b[?25l\u001b[A\u001b[A\u001b[1G\u001b[?25h\u001b[?2026l\u001b[?2026h\u001b[?25l\u001b[A\u001b[A\u001b[1G\u001b[?25h\u001b[?2026l\u001b[?2026h\u001b[?25l\u001b[A\u001b[A\u001b[1G\u001b[?25h\u001b[?2026l\u001b[?2026h\u001b[?25l\u001b[A\u001b[A\u001b[1G\u001b[?25h\u001b[?2026l\u001b[?2026h\u001b[?25l\u001b[A\u001b[A\u001b[1G\u001b[?25h\u001b[?2026l\u001b[?2026h\u001b[?25l\u001b[A\u001b[A\u001b[A\u001b[1G\u001b[?25h\u001b[?2026l\u001b[?2026h\u001b[?25l\u001b[A\u001b[A\u001b[A\u001b[1G\u001b[?25h\u001b[?2026l\u001b[?2026h\u001b[?25l\u001b[A\u001b[A\u001b[A\u001b[1G\u001b[?25h\u001b[?2026l\u001b[?2026h\u001b[?25l\u001b[A\u001b[A\u001b[A\u001b[1G\u001b[?25h\u001b[?2026l\u001b[?2026h\u001b[?25l\u001b[A\u001b[A\u001b[A\u001b[1G\u001b[?25h\u001b[?2026l\u001b[?2026h\u001b[?25l\u001b[A\u001b[A\u001b[A\u001b[1G\u001b[?25h\u001b[?2026l\u001b[?2026h\u001b[?25l\u001b[A\u001b[A\u001b[A\u001b[1G\u001b[?25h\u001b[?2026l\u001b[?2026h\u001b[?25l\u001b[A\u001b[A\u001b[A\u001b[1G\u001b[?25h\u001b[?2026l\u001b[?2026h\u001b[?25l\u001b[A\u001b[A\u001b[A\u001b[1G\u001b[?25h\u001b[?2026l\u001b[?2026h\u001b[?25l\u001b[A\u001b[A\u001b[A\u001b[1G\u001b[?25h\u001b[?2026l\u001b[?2026h\u001b[?25l\u001b[A\u001b[A\u001b[A\u001b[1G\u001b[?25h\u001b[?2026l\u001b[?2026h\u001b[?25l\u001b[A\u001b[A\u001b[A\u001b[A\u001b[1G\u001b[?25h\u001b[?2026l\u001b[?2026h\u001b[?25l\u001b[A\u001b[A\u001b[A\u001b[A\u001b[1G\u001b[?25h\u001b[?2026l\u001b[?2026h\u001b[?25l\u001b[A\u001b[A\u001b[A\u001b[A\u001b[1G\u001b[?25h\u001b[?2026l\u001b[?2026h\u001b[?25l\u001b[A\u001b[A\u001b[A\u001b[A\u001b[1G\u001b[?25h\u001b[?2026l\u001b[?2026h\u001b[?25l\u001b[A\u001b[A\u001b[A\u001b[A\u001b[1G\u001b[?25h\u001b[?2026l\u001b[?2026h\u001b[?25l\u001b[A\u001b[A\u001b[A\u001b[A\u001b[1G\u001b[?25h\u001b[?2026l\u001b[?2026h\u001b[?25l\u001b[A\u001b[A\u001b[A\u001b[A\u001b[1G\u001b[?25h\u001b[?2026l\u001b[?2026h\u001b[?25l\u001b[A\u001b[A\u001b[A\u001b[A\u001b[1G\u001b[?25h\u001b[?2026l\u001b[?2026h\u001b[?25l\u001b[A\u001b[A\u001b[A\u001b[A\u001b[1G\u001b[?25h\u001b[?2026l\u001b[?2026h\u001b[?25l\u001b[A\u001b[A\u001b[A\u001b[A\u001b[1G\u001b[?25h\u001b[?2026l\u001b[?2026h\u001b[?25l\u001b[A\u001b[A\u001b[A\u001b[A\u001b[1G\u001b[?25h\u001b[?2026l\u001b[?2026h\u001b[?25l\u001b[A\u001b[A\u001b[A\u001b[A\u001b[1G\u001b[?25h\u001b[?2026l\u001b[?2026h\u001b[?25l\u001b[A\u001b[A\u001b[A\u001b[A\u001b[1G\u001b[?25h\u001b[?2026l\u001b[?2026h\u001b[?25l\u001b[A\u001b[A\u001b[A\u001b[A\u001b[A\u001b[1G\u001b[?25h\u001b[?2026l\u001b[?2026h\u001b[?25l\u001b[A\u001b[A\u001b[A\u001b[A\u001b[A\u001b[1G\u001b[?25h\u001b[?2026l\u001b[?2026h\u001b[?25l\u001b[A\u001b[A\u001b[A\u001b[A\u001b[A\u001b[1G\u001b[?25h\u001b[?2026l\u001b[?2026h\u001b[?25l\u001b[A\u001b[A\u001b[A\u001b[A\u001b[A\u001b[1G\u001b[?25h\u001b[?2026l\u001b[?2026h\u001b[?25l\u001b[A\u001b[A\u001b[A\u001b[A\u001b[A\u001b[1G\u001b[?25h\u001b[?2026l\u001b[?2026h\u001b[?25l\u001b[A\u001b[A\u001b[A\u001b[A\u001b[A\u001b[1G\u001b[?25h\u001b[?2026l\u001b[?2026h\u001b[?25l\u001b[A\u001b[A\u001b[A\u001b[A\u001b[A\u001b[1G\u001b[?25h\u001b[?2026l\u001b[?2026h\u001b[?25l\u001b[A\u001b[A\u001b[A\u001b[A\u001b[A\u001b[1G\u001b[?25h\u001b[?2026l\u001b[?2026h\u001b[?25l\u001b[A\u001b[A\u001b[A\u001b[A\u001b[A\u001b[1G\u001b[?25h\u001b[?2026l\u001b[?2026h\u001b[?25l\u001b[A\u001b[A\u001b[A\u001b[A\u001b[A\u001b[1G\u001b[?25h\u001b[?2026l\u001b[?2026h\u001b[?25l\u001b[A\u001b[A\u001b[A\u001b[A\u001b[A\u001b[A\u001b[1G\u001b[?25h\u001b[?2026l\u001b[?2026h\u001b[?25l\u001b[A\u001b[A\u001b[A\u001b[A\u001b[A\u001b[A\u001b[1G\u001b[?25h\u001b[?2026l\u001b[?2026h\u001b[?25l\u001b[A\u001b[A\u001b[A\u001b[A\u001b[A\u001b[A\u001b[1G\u001b[?25h\u001b[?2026l\u001b[?2026h\u001b[?25l\u001b[A\u001b[A\u001b[A\u001b[A\u001b[A\u001b[A\u001b[1G\u001b[?25h\u001b[?2026l\u001b[?2026h\u001b[?25l\u001b[A\u001b[A\u001b[A\u001b[A\u001b[A\u001b[A\u001b[1G\u001b[?25h\u001b[?2026l\u001b[?2026h\u001b[?25l\u001b[A\u001b[A\u001b[A\u001b[A\u001b[A\u001b[A\u001b[1G\u001b[?25h\u001b[?2026l\u001b[?2026h\u001b[?25l\u001b[A\u001b[A\u001b[A\u001b[A\u001b[A\u001b[A\u001b[1G\u001b[?25h\u001b[?2026l\u001b[?2026h\u001b[?25l\u001b[A\u001b[A\u001b[A\u001b[A\u001b[A\u001b[A\u001b[1G\u001b[?25h\u001b[?2026l\u001b[?2026h\u001b[?25l\u001b[A\u001b[A\u001b[A\u001b[A\u001b[A\u001b[A\u001b[1G\u001b[?25h\u001b[?2026l\u001b[?2026h\u001b[?25l\u001b[A\u001b[A\u001b[A\u001b[A\u001b[A\u001b[A\u001b[1G\u001b[?25h\u001b[?2026l\u001b[?2026h\u001b[?25l\u001b[A\u001b[A\u001b[A\u001b[A\u001b[A\u001b[A\u001b[1G\u001b[?25h\u001b[?2026l\u001b[?2026h\u001b[?25l\u001b[A\u001b[A\u001b[A\u001b[A\u001b[A\u001b[A\u001b[A\u001b[1G\u001b[?25h\u001b[?2026l\u001b[?2026h\u001b[?25l\u001b[A\u001b[A\u001b[A\u001b[A\u001b[A\u001b[A\u001b[A\u001b[1G\u001b[?25h\u001b[?2026l\u001b[?2026h\u001b[?25l\u001b[A\u001b[A\u001b[A\u001b[A\u001b[A\u001b[A\u001b[A\u001b[1G\u001b[?25h\u001b[?2026l\u001b[?2026h\u001b[?25l\u001b[A\u001b[A\u001b[A\u001b[A\u001b[A\u001b[A\u001b[A\u001b[1G\u001b[?25h\u001b[?2026l\u001b[?2026h\u001b[?25l\u001b[A\u001b[A\u001b[A\u001b[A\u001b[A\u001b[A\u001b[A\u001b[1G\u001b[?25h\u001b[?2026l\u001b[?2026h\u001b[?25l\u001b[A\u001b[A\u001b[A\u001b[A\u001b[A\u001b[A\u001b[A\u001b[1G\u001b[?25h\u001b[?2026l\u001b[?2026h\u001b[?25l\u001b[A\u001b[A\u001b[A\u001b[A\u001b[A\u001b[A\u001b[A\u001b[1G\u001b[?25h\u001b[?2026l\u001b[?2026h\u001b[?25l\u001b[A\u001b[A\u001b[A\u001b[A\u001b[A\u001b[A\u001b[A\u001b[1G\u001b[?25h\u001b[?2026l\u001b[?2026h\u001b[?25l\u001b[A\u001b[A\u001b[A\u001b[A\u001b[A\u001b[A\u001b[A\u001b[1G\u001b[?25h\u001b[?2026l\u001b[?2026h\u001b[?25l\u001b[A\u001b[A\u001b[A\u001b[A\u001b[A\u001b[A\u001b[A\u001b[1G\u001b[?25h\u001b[?2026l\u001b[?2026h\u001b[?25l\u001b[A\u001b[A\u001b[A\u001b[A\u001b[A\u001b[A\u001b[A\u001b[1G\u001b[?25h\u001b[?2026l\u001b[?2026h\u001b[?25l\u001b[A\u001b[A\u001b[A\u001b[A\u001b[A\u001b[A\u001b[A\u001b[1G\u001b[?25h\u001b[?2026l\u001b[?2026h\u001b[?25l\u001b[A\u001b[A\u001b[A\u001b[A\u001b[A\u001b[A\u001b[A\u001b[1G\u001b[?25h\u001b[?2026l\u001b[?2026h\u001b[?25l\u001b[A\u001b[A\u001b[A\u001b[A\u001b[A\u001b[A\u001b[A\u001b[1G\u001b[?25h\u001b[?2026l\u001b[?2026h\u001b[?25l\u001b[A\u001b[A\u001b[A\u001b[A\u001b[A\u001b[A\u001b[A\u001b[1G\u001b[?25h\u001b[?2026l\u001b[?2026h\u001b[?25l\u001b[A\u001b[A\u001b[A\u001b[A\u001b[A\u001b[A\u001b[A\u001b[1G\u001b[?25h\u001b[?2026l\u001b[?2026h\u001b[?25l\u001b[A\u001b[A\u001b[A\u001b[A\u001b[A\u001b[A\u001b[A\u001b[1G\u001b[?25h\u001b[?2026l\u001b[?2026h\u001b[?25l\u001b[A\u001b[A\u001b[A\u001b[A\u001b[A\u001b[A\u001b[A\u001b[1G\u001b[?25h\u001b[?2026l\u001b[?2026h\u001b[?25l\u001b[A\u001b[A\u001b[A\u001b[A\u001b[A\u001b[A\u001b[A\u001b[1G\u001b[?25h\u001b[?2026l\u001b[?2026h\u001b[?25l\u001b[A\u001b[A\u001b[A\u001b[A\u001b[A\u001b[A\u001b[A\u001b[1G\u001b[?25h\u001b[?2026l\u001b[?2026h\u001b[?25l\u001b[A\u001b[A\u001b[A\u001b[A\u001b[A\u001b[A\u001b[A\u001b[1G\u001b[?25h\u001b[?2026l\u001b[?2026h\u001b[?25l\u001b[A\u001b[A\u001b[A\u001b[A\u001b[A\u001b[A\u001b[A\u001b[1G\u001b[?25h\u001b[?2026l\u001b[?2026h\u001b[?25l\u001b[A\u001b[A\u001b[A\u001b[A\u001b[A\u001b[A\u001b[A\u001b[1G\u001b[?25h\u001b[?2026l\u001b[?2026h\u001b[?25l\u001b[A\u001b[A\u001b[A\u001b[A\u001b[A\u001b[A\u001b[A\u001b[1G\u001b[?25h\u001b[?2026l\u001b[?2026h\u001b[?25l\u001b[A\u001b[A\u001b[A\u001b[A\u001b[A\u001b[A\u001b[A\u001b[1G\u001b[?25h\u001b[?2026l\u001b[?2026h\u001b[?25l\u001b[A\u001b[A\u001b[A\u001b[A\u001b[A\u001b[A\u001b[A\u001b[1G\u001b[?25h\u001b[?2026l\u001b[?2026h\u001b[?25l\u001b[A\u001b[A\u001b[A\u001b[A\u001b[A\u001b[A\u001b[A\u001b[1G\u001b[?25h\u001b[?2026l\u001b[?2026h\u001b[?25l\u001b[A\u001b[A\u001b[A\u001b[A\u001b[A\u001b[A\u001b[A\u001b[1G\u001b[?25h\u001b[?2026l\u001b[?2026h\u001b[?25l\u001b[A\u001b[A\u001b[A\u001b[A\u001b[A\u001b[A\u001b[A\u001b[1G\u001b[?25h\u001b[?2026l\u001b[?2026h\u001b[?25l\u001b[A\u001b[A\u001b[A\u001b[A\u001b[A\u001b[A\u001b[A\u001b[1G\u001b[?25h\u001b[?2026l\u001b[?2026h\u001b[?25l\u001b[A\u001b[A\u001b[A\u001b[A\u001b[A\u001b[A\u001b[A\u001b[1G\u001b[?25h\u001b[?2026l\u001b[?2026h\u001b[?25l\u001b[A\u001b[A\u001b[A\u001b[A\u001b[A\u001b[A\u001b[A\u001b[1G\u001b[?25h\u001b[?2026l\u001b[?2026h\u001b[?25l\u001b[A\u001b[A\u001b[A\u001b[A\u001b[A\u001b[A\u001b[A\u001b[1G\u001b[?25h\u001b[?2026l\u001b[?2026h\u001b[?25l\u001b[A\u001b[A\u001b[A\u001b[A\u001b[A\u001b[A\u001b[A\u001b[1G\u001b[?25h\u001b[?2026l\u001b[?2026h\u001b[?25l\u001b[A\u001b[A\u001b[A\u001b[A\u001b[A\u001b[A\u001b[A\u001b[1G\u001b[?25h\u001b[?2026l\u001b[?2026h\u001b[?25l\u001b[A\u001b[A\u001b[A\u001b[A\u001b[A\u001b[A\u001b[A\u001b[1G\u001b[?25h\u001b[?2026l\u001b[?2026h\u001b[?25l\u001b[A\u001b[A\u001b[A\u001b[A\u001b[A\u001b[A\u001b[A\u001b[1G\u001b[?25h\u001b[?2026l\u001b[?2026h\u001b[?25l\u001b[A\u001b[A\u001b[A\u001b[A\u001b[A\u001b[A\u001b[A\u001b[1G\u001b[?25h\u001b[?2026l\u001b[?2026h\u001b[?25l\u001b[A\u001b[A\u001b[A\u001b[A\u001b[A\u001b[A\u001b[A\u001b[1G\u001b[?25h\u001b[?2026l\u001b[?2026h\u001b[?25l\u001b[A\u001b[A\u001b[A\u001b[A\u001b[A\u001b[A\u001b[A\u001b[1G\u001b[?25h\u001b[?2026l\u001b[?2026h\u001b[?25l\u001b[A\u001b[A\u001b[A\u001b[A\u001b[A\u001b[A\u001b[A\u001b[1G\u001b[?25h\u001b[?2026l\u001b[?2026h\u001b[?25l\u001b[A\u001b[A\u001b[A\u001b[A\u001b[A\u001b[A\u001b[A\u001b[1G\u001b[?25h\u001b[?2026l\u001b[?2026h\u001b[?25l\u001b[A\u001b[A\u001b[A\u001b[A\u001b[A\u001b[A\u001b[A\u001b[1G\u001b[?25h\u001b[?2026l\u001b[?2026h\u001b[?25l\u001b[A\u001b[A\u001b[A\u001b[A\u001b[A\u001b[A\u001b[A\u001b[1G\u001b[?25h\u001b[?2026l\u001b[?2026h\u001b[?25l\u001b[A\u001b[A\u001b[A\u001b[A\u001b[A\u001b[A\u001b[A\u001b[1G\u001b[?25h\u001b[?2026l\u001b[?2026h\u001b[?25l\u001b[A\u001b[A\u001b[A\u001b[A\u001b[A\u001b[A\u001b[A\u001b[1G\u001b[?25h\u001b[?2026l\u001b[?2026h\u001b[?25l\u001b[A\u001b[A\u001b[A\u001b[A\u001b[A\u001b[A\u001b[A\u001b[1G\u001b[?25h\u001b[?2026l\u001b[?2026h\u001b[?25l\u001b[A\u001b[A\u001b[A\u001b[A\u001b[A\u001b[A\u001b[A\u001b[1G\u001b[?25h\u001b[?2026l\u001b[?2026h\u001b[?25l\u001b[A\u001b[A\u001b[A\u001b[A\u001b[A\u001b[A\u001b[A\u001b[1G\u001b[?25h\u001b[?2026l\u001b[?2026h\u001b[?25l\u001b[A\u001b[A\u001b[A\u001b[A\u001b[A\u001b[A\u001b[A\u001b[1G\u001b[?25h\u001b[?2026l\u001b[?2026h\u001b[?25l\u001b[A\u001b[A\u001b[A\u001b[A\u001b[A\u001b[A\u001b[A\u001b[1G\u001b[?25h\u001b[?2026l\u001b[?2026h\u001b[?25l\u001b[A\u001b[A\u001b[A\u001b[A\u001b[A\u001b[A\u001b[A\u001b[1G\u001b[?25h\u001b[?2026l\u001b[?2026h\u001b[?25l\u001b[A\u001b[A\u001b[A\u001b[A\u001b[A\u001b[A\u001b[A\u001b[1G\u001b[?25h\u001b[?2026l\u001b[?2026h\u001b[?25l\u001b[A\u001b[A\u001b[A\u001b[A\u001b[A\u001b[A\u001b[A\u001b[1G\u001b[?25h\u001b[?2026l\u001b[?2026h\u001b[?25l\u001b[A\u001b[A\u001b[A\u001b[A\u001b[A\u001b[A\u001b[A\u001b[1G\u001b[?25h\u001b[?2026l\u001b[?2026h\u001b[?25l\u001b[A\u001b[A\u001b[A\u001b[A\u001b[A\u001b[A\u001b[A\u001b[1G\u001b[?25h\u001b[?2026l\u001b[?2026h\u001b[?25l\u001b[A\u001b[A\u001b[A\u001b[A\u001b[A\u001b[A\u001b[A\u001b[1G\u001b[?25h\u001b[?2026l\u001b[?2026h\u001b[?25l\u001b[A\u001b[A\u001b[A\u001b[A\u001b[A\u001b[A\u001b[A\u001b[1G\u001b[?25h\u001b[?2026l\u001b[?2026h\u001b[?25l\u001b[A\u001b[A\u001b[A\u001b[A\u001b[A\u001b[A\u001b[A\u001b[1G\u001b[?25h\u001b[?2026l\u001b[?2026h\u001b[?25l\u001b[A\u001b[A\u001b[A\u001b[A\u001b[A\u001b[A\u001b[A\u001b[1G\u001b[?25h\u001b[?2026l\u001b[?2026h\u001b[?25l\u001b[A\u001b[A\u001b[A\u001b[A\u001b[A\u001b[A\u001b[A\u001b[1G\u001b[?25h\u001b[?2026l\u001b[?2026h\u001b[?25l\u001b[A\u001b[A\u001b[A\u001b[A\u001b[A\u001b[A\u001b[A\u001b[1G\u001b[?25h\u001b[?2026l\u001b[?2026h\u001b[?25l\u001b[A\u001b[A\u001b[A\u001b[A\u001b[A\u001b[A\u001b[A\u001b[1G\u001b[?25h\u001b[?2026l\u001b[?2026h\u001b[?25l\u001b[A\u001b[A\u001b[A\u001b[A\u001b[A\u001b[A\u001b[A\u001b[1G\u001b[?25h\u001b[?2026l\u001b[?2026h\u001b[?25l\u001b[A\u001b[A\u001b[A\u001b[A\u001b[A\u001b[A\u001b[A\u001b[1G\u001b[?25h\u001b[?2026l\u001b[?2026h\u001b[?25l\u001b[A\u001b[A\u001b[A\u001b[A\u001b[A\u001b[A\u001b[A\u001b[1G\u001b[?25h\u001b[?2026l\u001b[?2026h\u001b[?25l\u001b[A\u001b[A\u001b[A\u001b[A\u001b[A\u001b[A\u001b[A\u001b[1G\u001b[?25h\u001b[?2026l\u001b[?2026h\u001b[?25l\u001b[A\u001b[A\u001b[A\u001b[A\u001b[A\u001b[A\u001b[A\u001b[1G\u001b[?25h\u001b[?2026l\u001b[?2026h\u001b[?25l\u001b[A\u001b[A\u001b[A\u001b[A\u001b[A\u001b[A\u001b[A\u001b[1G\u001b[?25h\u001b[?2026l\u001b[?2026h\u001b[?25l\u001b[A\u001b[A\u001b[A\u001b[A\u001b[A\u001b[A\u001b[A\u001b[1G\u001b[?25h\u001b[?2026l\u001b[?2026h\u001b[?25l\u001b[A\u001b[A\u001b[A\u001b[A\u001b[A\u001b[A\u001b[A\u001b[1G\u001b[?25h\u001b[?2026l\u001b[?2026h\u001b[?25l\u001b[A\u001b[A\u001b[A\u001b[A\u001b[A\u001b[A\u001b[A\u001b[1G\u001b[?25h\u001b[?2026l\u001b[?2026h\u001b[?25l\u001b[A\u001b[A\u001b[A\u001b[A\u001b[A\u001b[A\u001b[A\u001b[1G\u001b[?25h\u001b[?2026l\u001b[?2026h\u001b[?25l\u001b[A\u001b[A\u001b[A\u001b[A\u001b[A\u001b[A\u001b[A\u001b[1G\u001b[?25h\u001b[?2026l\u001b[?2026h\u001b[?25l\u001b[A\u001b[A\u001b[A\u001b[A\u001b[A\u001b[A\u001b[A\u001b[1G\u001b[?25h\u001b[?2026l\u001b[?2026h\u001b[?25l\u001b[A\u001b[A\u001b[A\u001b[A\u001b[A\u001b[A\u001b[A\u001b[1G\u001b[?25h\u001b[?2026l\u001b[?2026h\u001b[?25l\u001b[A\u001b[A\u001b[A\u001b[A\u001b[A\u001b[A\u001b[A\u001b[1G\u001b[?25h\u001b[?2026l\u001b[?2026h\u001b[?25l\u001b[A\u001b[A\u001b[A\u001b[A\u001b[A\u001b[A\u001b[A\u001b[1G\u001b[?25h\u001b[?2026l\u001b[?2026h\u001b[?25l\u001b[A\u001b[A\u001b[A\u001b[A\u001b[A\u001b[A\u001b[A\u001b[1G\u001b[?25h\u001b[?2026l\u001b[?2026h\u001b[?25l\u001b[A\u001b[A\u001b[A\u001b[A\u001b[A\u001b[A\u001b[A\u001b[1G\u001b[?25h\u001b[?2026l\u001b[?2026h\u001b[?25l\u001b[A\u001b[A\u001b[A\u001b[A\u001b[A\u001b[A\u001b[A\u001b[1G\u001b[?25h\u001b[?2026l\u001b[?2026h\u001b[?25l\u001b[A\u001b[A\u001b[A\u001b[A\u001b[A\u001b[A\u001b[A\u001b[1G\u001b[?25h\u001b[?2026l\u001b[?2026h\u001b[?25l\u001b[A\u001b[A\u001b[A\u001b[A\u001b[A\u001b[A\u001b[A\u001b[1G\u001b[?25h\u001b[?2026l\u001b[?2026h\u001b[?25l\u001b[A\u001b[A\u001b[A\u001b[A\u001b[A\u001b[A\u001b[A\u001b[1G\u001b[?25h\u001b[?2026l\u001b[?2026h\u001b[?25l\u001b[A\u001b[A\u001b[A\u001b[A\u001b[A\u001b[A\u001b[A\u001b[1G\u001b[?25h\u001b[?2026l\u001b[?2026h\u001b[?25l\u001b[A\u001b[A\u001b[A\u001b[A\u001b[A\u001b[A\u001b[A\u001b[1G\u001b[?25h\u001b[?2026l\u001b[?2026h\u001b[?25l\u001b[A\u001b[A\u001b[A\u001b[A\u001b[A\u001b[A\u001b[A\u001b[1G\u001b[?25h\u001b[?2026l\u001b[?2026h\u001b[?25l\u001b[A\u001b[A\u001b[A\u001b[A\u001b[A\u001b[A\u001b[A\u001b[1G\u001b[?25h\u001b[?2026l\u001b[?2026h\u001b[?25l\u001b[A\u001b[A\u001b[A\u001b[A\u001b[A\u001b[A\u001b[A\u001b[1G\u001b[?25h\u001b[?2026l\u001b[?2026h\u001b[?25l\u001b[A\u001b[A\u001b[A\u001b[A\u001b[A\u001b[A\u001b[A\u001b[1G\u001b[?25h\u001b[?2026l\u001b[?2026h\u001b[?25l\u001b[A\u001b[A\u001b[A\u001b[A\u001b[A\u001b[A\u001b[A\u001b[1G\u001b[?25h\u001b[?2026l\u001b[?2026h\u001b[?25l\u001b[A\u001b[A\u001b[A\u001b[A\u001b[A\u001b[A\u001b[A\u001b[1G\u001b[?25h\u001b[?2026l\u001b[?2026h\u001b[?25l\u001b[A\u001b[A\u001b[A\u001b[A\u001b[A\u001b[A\u001b[A\u001b[1G\u001b[?25h\u001b[?2026l\u001b[?2026h\u001b[?25l\u001b[A\u001b[A\u001b[A\u001b[A\u001b[A\u001b[A\u001b[A\u001b[1G\u001b[?25h\u001b[?2026l\u001b[?2026h\u001b[?25l\u001b[A\u001b[A\u001b[A\u001b[A\u001b[A\u001b[A\u001b[A\u001b[1G\u001b[?25h\u001b[?2026l\u001b[?2026h\u001b[?25l\u001b[A\u001b[A\u001b[A\u001b[A\u001b[A\u001b[A\u001b[A\u001b[1G\u001b[?25h\u001b[?2026l\u001b[?2026h\u001b[?25l\u001b[A\u001b[A\u001b[A\u001b[A\u001b[A\u001b[A\u001b[A\u001b[1G\u001b[?25h\u001b[?2026l\u001b[?2026h\u001b[?25l\u001b[A\u001b[A\u001b[A\u001b[A\u001b[A\u001b[A\u001b[A\u001b[1G\u001b[?25h\u001b[?2026l\u001b[?2026h\u001b[?25l\u001b[A\u001b[A\u001b[A\u001b[A\u001b[A\u001b[A\u001b[A\u001b[1G\u001b[?25h\u001b[?2026l\u001b[?2026h\u001b[?25l\u001b[A\u001b[A\u001b[A\u001b[A\u001b[A\u001b[A\u001b[A\u001b[1G\u001b[?25h\u001b[?2026l\u001b[?2026h\u001b[?25l\u001b[A\u001b[A\u001b[A\u001b[A\u001b[A\u001b[A\u001b[A\u001b[1G\u001b[?25h\u001b[?2026l\u001b[?2026h\u001b[?25l\u001b[A\u001b[A\u001b[A\u001b[A\u001b[A\u001b[A\u001b[A\u001b[1G\u001b[?25h\u001b[?2026l\u001b[?2026h\u001b[?25l\u001b[A\u001b[A\u001b[A\u001b[A\u001b[A\u001b[A\u001b[A\u001b[1G\u001b[?25h\u001b[?2026l\u001b[?2026h\u001b[?25l\u001b[A\u001b[A\u001b[A\u001b[A\u001b[A\u001b[A\u001b[A\u001b[1G\u001b[?25h\u001b[?2026l\u001b[?2026h\u001b[?25l\u001b[A\u001b[A\u001b[A\u001b[A\u001b[A\u001b[A\u001b[A\u001b[1G\u001b[?25h\u001b[?2026l\u001b[?2026h\u001b[?25l\u001b[A\u001b[A\u001b[A\u001b[A\u001b[A\u001b[A\u001b[A\u001b[1G\u001b[?25h\u001b[?2026l\u001b[?2026h\u001b[?25l\u001b[A\u001b[A\u001b[A\u001b[A\u001b[A\u001b[A\u001b[A\u001b[1G\u001b[?25h\u001b[?2026l\u001b[?2026h\u001b[?25l\u001b[A\u001b[A\u001b[A\u001b[A\u001b[A\u001b[A\u001b[A\u001b[1G\u001b[?25h\u001b[?2026l\u001b[?2026h\u001b[?25l\u001b[A\u001b[A\u001b[A\u001b[A\u001b[A\u001b[A\u001b[A\u001b[1G\u001b[?25h\u001b[?2026l\u001b[?2026h\u001b[?25l\u001b[A\u001b[A\u001b[A\u001b[A\u001b[A\u001b[A\u001b[A\u001b[1G\u001b[?25h\u001b[?2026l\u001b[?2026h\u001b[?25l\u001b[A\u001b[A\u001b[A\u001b[A\u001b[A\u001b[A\u001b[A\u001b[1G\u001b[?25h\u001b[?2026l\u001b[?2026h\u001b[?25l\u001b[A\u001b[A\u001b[A\u001b[A\u001b[A\u001b[A\u001b[A\u001b[1G\u001b[?25h\u001b[?2026l\u001b[?2026h\u001b[?25l\u001b[A\u001b[A\u001b[A\u001b[A\u001b[A\u001b[A\u001b[A\u001b[1G\u001b[?25h\u001b[?2026l\u001b[?2026h\u001b[?25l\u001b[A\u001b[A\u001b[A\u001b[A\u001b[A\u001b[A\u001b[A\u001b[1G\u001b[?25h\u001b[?2026l\u001b[?2026h\u001b[?25l\u001b[A\u001b[A\u001b[A\u001b[A\u001b[A\u001b[A\u001b[A\u001b[1G\u001b[?25h\u001b[?2026l\u001b[?2026h\u001b[?25l\u001b[A\u001b[A\u001b[A\u001b[A\u001b[A\u001b[A\u001b[A\u001b[1G\u001b[?25h\u001b[?2026l\u001b[?2026h\u001b[?25l\u001b[A\u001b[A\u001b[A\u001b[A\u001b[A\u001b[A\u001b[A\u001b[1G\u001b[?25h\u001b[?2026l\u001b[?2026h\u001b[?25l\u001b[A\u001b[A\u001b[A\u001b[A\u001b[A\u001b[A\u001b[A\u001b[1G\u001b[?25h\u001b[?2026l\u001b[?2026h\u001b[?25l\u001b[A\u001b[A\u001b[A\u001b[A\u001b[A\u001b[A\u001b[A\u001b[1G\u001b[?25h\u001b[?2026l\u001b[?2026h\u001b[?25l\u001b[A\u001b[A\u001b[A\u001b[A\u001b[A\u001b[A\u001b[A\u001b[1G\u001b[?25h\u001b[?2026l\u001b[?2026h\u001b[?25l\u001b[A\u001b[A\u001b[A\u001b[A\u001b[A\u001b[A\u001b[A\u001b[1G\u001b[?25h\u001b[?2026l\u001b[?2026h\u001b[?25l\u001b[A\u001b[A\u001b[A\u001b[A\u001b[A\u001b[A\u001b[A\u001b[1G\u001b[?25h\u001b[?2026l\u001b[?2026h\u001b[?25l\u001b[A\u001b[A\u001b[A\u001b[A\u001b[A\u001b[A\u001b[A\u001b[1G\u001b[?25h\u001b[?2026l\u001b[?2026h\u001b[?25l\u001b[A\u001b[A\u001b[A\u001b[A\u001b[A\u001b[A\u001b[A\u001b[1G\u001b[?25h\u001b[?2026l\u001b[?2026h\u001b[?25l\u001b[A\u001b[A\u001b[A\u001b[A\u001b[A\u001b[A\u001b[A\u001b[1G\u001b[?25h\u001b[?2026l\u001b[?2026h\u001b[?25l\u001b[A\u001b[A\u001b[A\u001b[A\u001b[A\u001b[A\u001b[A\u001b[1G\u001b[?25h\u001b[?2026l\u001b[?2026h\u001b[?25l\u001b[A\u001b[A\u001b[A\u001b[A\u001b[A\u001b[A\u001b[A\u001b[1G\u001b[?25h\u001b[?2026l\u001b[?2026h\u001b[?25l\u001b[A\u001b[A\u001b[A\u001b[A\u001b[A\u001b[A\u001b[A\u001b[1G\u001b[?25h\u001b[?2026l\u001b[?2026h\u001b[?25l\u001b[A\u001b[A\u001b[A\u001b[A\u001b[A\u001b[A\u001b[A\u001b[1G\u001b[?25h\u001b[?2026l\u001b[?2026h\u001b[?25l\u001b[A\u001b[A\u001b[A\u001b[A\u001b[A\u001b[A\u001b[A\u001b[1G\u001b[?25h\u001b[?2026l\u001b[?2026h\u001b[?25l\u001b[A\u001b[A\u001b[A\u001b[A\u001b[A\u001b[A\u001b[A\u001b[1G\u001b[?25h\u001b[?2026l\u001b[?2026h\u001b[?25l\u001b[A\u001b[A\u001b[A\u001b[A\u001b[A\u001b[A\u001b[A\u001b[1G\u001b[?25h\u001b[?2026l\u001b[?2026h\u001b[?25l\u001b[A\u001b[A\u001b[A\u001b[A\u001b[A\u001b[A\u001b[A\u001b[1G\u001b[?25h\u001b[?2026l\u001b[?2026h\u001b[?25l\u001b[A\u001b[A\u001b[A\u001b[A\u001b[A\u001b[A\u001b[A\u001b[1G\u001b[?25h\u001b[?2026l\u001b[?2026h\u001b[?25l\u001b[A\u001b[A\u001b[A\u001b[A\u001b[A\u001b[A\u001b[A\u001b[1G\u001b[?25h\u001b[?2026l\u001b[?2026h\u001b[?25l\u001b[A\u001b[A\u001b[A\u001b[A\u001b[A\u001b[A\u001b[A\u001b[1G\u001b[?25h\u001b[?2026l\u001b[?2026h\u001b[?25l\u001b[A\u001b[A\u001b[A\u001b[A\u001b[A\u001b[A\u001b[A\u001b[1G\u001b[?25h\u001b[?2026l\u001b[?2026h\u001b[?25l\u001b[A\u001b[A\u001b[A\u001b[A\u001b[A\u001b[A\u001b[A\u001b[1G\u001b[?25h\u001b[?2026l\u001b[?2026h\u001b[?25l\u001b[A\u001b[A\u001b[A\u001b[A\u001b[A\u001b[A\u001b[A\u001b[1G\u001b[?25h\u001b[?2026l\u001b[?2026h\u001b[?25l\u001b[A\u001b[A\u001b[A\u001b[A\u001b[A\u001b[A\u001b[A\u001b[1G\u001b[?25h\u001b[?2026l\u001b[?2026h\u001b[?25l\u001b[A\u001b[A\u001b[A\u001b[A\u001b[A\u001b[A\u001b[A\u001b[1G\u001b[?25h\u001b[?2026l\u001b[?2026h\u001b[?25l\u001b[A\u001b[A\u001b[A\u001b[A\u001b[A\u001b[A\u001b[A\u001b[1G\u001b[?25h\u001b[?2026l\u001b[?2026h\u001b[?25l\u001b[A\u001b[A\u001b[A\u001b[A\u001b[A\u001b[A\u001b[A\u001b[1G\u001b[?25h\u001b[?2026l\u001b[?2026h\u001b[?25l\u001b[A\u001b[A\u001b[A\u001b[A\u001b[A\u001b[A\u001b[A\u001b[1G\u001b[?25h\u001b[?2026l\u001b[?2026h\u001b[?25l\u001b[A\u001b[A\u001b[A\u001b[A\u001b[A\u001b[A\u001b[A\u001b[1G\u001b[?25h\u001b[?2026l\u001b[?2026h\u001b[?25l\u001b[A\u001b[A\u001b[A\u001b[A\u001b[A\u001b[A\u001b[A\u001b[1G\u001b[?25h\u001b[?2026l\u001b[?2026h\u001b[?25l\u001b[A\u001b[A\u001b[A\u001b[A\u001b[A\u001b[A\u001b[A\u001b[1G\u001b[?25h\u001b[?2026l\u001b[?2026h\u001b[?25l\u001b[A\u001b[A\u001b[A\u001b[A\u001b[A\u001b[A\u001b[A\u001b[1G\u001b[?25h\u001b[?2026l\u001b[?2026h\u001b[?25l\u001b[A\u001b[A\u001b[A\u001b[A\u001b[A\u001b[A\u001b[A\u001b[1G\u001b[?25h\u001b[?2026l\u001b[?2026h\u001b[?25l\u001b[A\u001b[A\u001b[A\u001b[A\u001b[A\u001b[A\u001b[A\u001b[1G\u001b[?25h\u001b[?2026l\u001b[?2026h\u001b[?25l\u001b[A\u001b[A\u001b[A\u001b[A\u001b[A\u001b[A\u001b[A\u001b[1G\u001b[?25h\u001b[?2026l\n"
          ]
        }
      ],
      "source": [
        "!ollama create ride_aspects -f /content/drive/MyDrive/ride_hailing/ModelFile"
      ]
    },
    {
      "cell_type": "code",
      "execution_count": null,
      "metadata": {
        "colab": {
          "base_uri": "https://localhost:8080/"
        },
        "id": "-hzPqqyEW1pr",
        "outputId": "07afb7dc-bebe-4fea-b7c7-41e0fbd81514"
      },
      "outputs": [
        {
          "name": "stdout",
          "output_type": "stream",
          "text": [
            "NAME                   ID              SIZE      MODIFIED               \n",
            "ride_aspects:latest    c7419aedccce    4.9 GB    Less than a second ago    \n",
            "llama3.1:latest        46e0c10c039e    4.9 GB    Less than a second ago    \n"
          ]
        }
      ],
      "source": [
        "!ollama list"
      ]
    },
    {
      "cell_type": "code",
      "execution_count": null,
      "metadata": {
        "colab": {
          "base_uri": "https://localhost:8080/",
          "height": 53
        },
        "id": "dbadzRkN9klO",
        "outputId": "fc3ddec9-2887-4dab-ab40-357bcb0dafee"
      },
      "outputs": [
        {
          "data": {
            "application/vnd.google.colaboratory.intrinsic+json": {
              "type": "string"
            },
            "text/plain": [
              "'Solicitei a corrida, o motoqueiro desviou da rota prevista. Um terço do caminho percorrido teve problemas mecânico. O motoqueiro encerrou a viagem como se tivesse finalizada corretamente.'"
            ]
          },
          "execution_count": 22,
          "metadata": {},
          "output_type": "execute_result"
        }
      ],
      "source": [
        "df_ride['report_text'].loc[11]"
      ]
    },
    {
      "cell_type": "code",
      "execution_count": null,
      "metadata": {
        "id": "yFgIIpOsmo55"
      },
      "outputs": [],
      "source": [
        "#certo\n",
        "import json\n",
        "import openai\n",
        "\n",
        "openai.api_key = \"dummy\"\n",
        "openai.api_base = \"http://127.0.0.1:11434/v1\"\n",
        "\n",
        "def llm_laca_task(task, text, max_tokens=500):\n",
        "    # Combine o texto e a tarefa no formato esperado\n",
        "    prompt = f\"{text}\\n===\\n{task}\"\n",
        "\n",
        "    try:\n",
        "        # Faz a chamada ao modelo\n",
        "        response = openai.ChatCompletion.create(\n",
        "            model=\"ride_aspects\",\n",
        "            messages=[{\"role\": \"user\", \"content\": prompt}],\n",
        "            temperature=0,\n",
        "        )\n",
        "\n",
        "        # Extrai o conteúdo da resposta\n",
        "        full_text = response['choices'][0]['message']['content']\n",
        "        return full_text\n",
        "\n",
        "    except Exception as e:\n",
        "        print(\"Error during API call:\", e)\n",
        "        return None\n"
      ]
    },
    {
      "cell_type": "code",
      "execution_count": null,
      "metadata": {
        "id": "aMMwcBFdwKnu"
      },
      "outputs": [],
      "source": [
        "#  texto ='''O VOO AZUL AD 2546 (CONFINS/UNA) TINHA HORÁRIO PREVISTO PARA DECOLAGEM AS 13:15HS POREM SÓ DECOLOU AS 16:04HS COM 02:49HS DE ATRASO. COM ISTO, A CHEGADA NO DESTINO OCORREU SOMENTE AS 17:31HS, PERDENDO ASSIM PRATICAMENTE A DIARIA'''\n",
        "#  # '''relato que em 26/02/2023 adquiri 02 (dois) bilhetes aéreos - para mim e minha esposa - no site da própria LATAM nos seguintes moldes:Código de reserva: UTNBVI Número de ordem: LA9571039EYTFPassageiros: RODRIGO PIOVEZAN (Passaporte - FZ641301) e NATALIA COLLI (Passaporte   FZ341308)Trecho: CGB(Cuiabá/MT)   LAS (Las Vegas/EUA), com conexão em GRU (Guarulhos/SP) e ATL (Atlanta/EUA)Data do voo: 29/08/2023VALOR PAGO: 178.032 pontos LATAMPASS + R$ 705,08.Destaco que recebi os bilhetes eletrônicos normalmente e, na sequência, realizei nossa reserva e pagamento de hotel em LAS VEGAS.Contudo, consultando meu app LATAM, constatei que HOUVE UMA ALTERAÇÃO UNILATERAL NO MEU DESTINO FINAL SEM O MEU CONSENTIMENTO, pois, adquiri bilhetes com destino final LAS VEGAS e, agora, aparece no sistema como destino final ATLANTA, o que não foi o contratado e pago.Ocorre que não concordo com a alteração, até porque o destino final ATLANTA NÃO FOI O CONTRATADO E PAGO, MAS SIM, LAS VEGAS.Diante dessa descoberta, entrei em contato com a LATAM via FALE CONOSCO e formalizei minha reclamação em 05/06/2023 através do REGISTRO DE CASO #51357364, onde SOLICITEI PROVIDÊNCIAS URGENTES acerca da correção de meu destino final efetivamente comprado, isto é, para que volte a constar nos bilhetes adquiridos o destino final LAS VEGAS.No entanto, em data de 08/06/2023, recebi por e-mail a absurda resposta da LATAM informando o quanto segue:  Peço desculpa pelo transtorno causado. Referente ao destino final em Las Vegas o voo foi cancelado pela empresa Ibéria. Peço que entre em contato com a Empresa Ibéria para estar verificando o procedimento, pois como é companhia parceira, não temos acesso ao voo cancelado. Sendo assim daremos este caso como encerrado. .Ocorre que TODO O TRECHO (CUIABÁ   LAS VEGAS) foi adquirido junto à LATAM, não tendo havido qualquer contato deste consumidor com a empresa aérea IBÉRIA, a qual nem sequer constava em meu bilhete como operadora do voo, mas sim, a empresa DELTA, a qual faria o trecho ATL-LAS no voo LA8494.Desse modo, através dessa plataforma do Governo, SOLICITO PROVIDÊNCIAS URGENTES por parte da LATAM, a fim de que a mesma retorne o trecho final LAS VEGAS para a minha reserva, ainda que sejam necessária adequação de horários, uma vez ser obrigação da companhia aérea honrar com o fornecimento dos bilhetes nos moldes em que fora por mim contratado e pago.Reitero que o destino final por mim adquirido sempre foi LAS VEGAS, e não ATLANTA, SENDO INADMISSÍVEL QUE A LATAM ME DEIXE NO MEIO DO CAMINHO'''\n",
        "\n",
        "# llm_laca_task(\"\"\"\n",
        "# [Persona]:\n",
        "# Você é especialista em extração de aspectos e análise de reclamações no domínio de companhias aéreas. Baseie suas respostas estritamente nos textos fornecidos e no prompt fornecido, sem adicionar nenhuma informação extra.\n",
        "# [Tarefa]:\n",
        "# Extraia apenas as *palavras*, da maneira que estão escritas, que representam aspectos no texto de reclamação. Aspectos são características, atributos ou componentes específicos de um produto, serviço ou experiência mencionados no texto.\n",
        "# [Objetivo]:\n",
        "# Exibir somente as palavras correspondentes aos aspectos encontrados no texto, sem explicações ou informações adicionais.\n",
        "# [Modelo]:\n",
        "# A resposta deve ser uma lista em português, contendo somente as palavras identificadas como aspectos.\n",
        "# [Panorama]:\n",
        "# O texto da reclamação será fornecido pelo usuário, e o modelo deve se concentrar em aspectos como 'preço', 'qualidade', 'atendimento',' produto', entre outros termos relacionados.\n",
        "# [Resposta]:\n",
        "# Com base no texto mostre as palavras aspectos extraídos no seguinte formato: [aspecto1 , aspecto2 , aspecto3 ]\n",
        "# \"\"\", texto)\n"
      ]
    },
    {
      "cell_type": "code",
      "execution_count": null,
      "metadata": {
        "colab": {
          "base_uri": "https://localhost:8080/",
          "height": 35
        },
        "id": "OcorCyeHU6gR",
        "outputId": "dfe037a4-6899-42ad-b807-ab9e7adb1b27"
      },
      "outputs": [
        {
          "data": {
            "application/vnd.google.colaboratory.intrinsic+json": {
              "type": "string"
            },
            "text/plain": [
              "'- Motoqueiro\\n- Rota\\n- Problema mecânico\\n- Viagem\\n- Corrida'"
            ]
          },
          "execution_count": 25,
          "metadata": {},
          "output_type": "execute_result"
        }
      ],
      "source": [
        " texto = '''Solicitei a corrida, o motoqueiro desviou da rota prevista. Um terço do caminho percorrido teve problemas mecânico. O motoqueiro encerrou a viagem como se tivesse finalizada corretamente'''\n",
        "\n",
        "llm_laca_task(\"\"\"\n",
        "[Persona]\n",
        "  Você é um especialista em processamento de linguagem natural focado em análise textual e extração precisa de aspectos em textos de reclamação.\n",
        "[Tarefa]\n",
        "  Extraia **apenas as palavras** que representam **aspectos** mencionados no texto fornecido.\n",
        "[Contexto]\n",
        "  Aspectos são características, atributos ou componentes específicos relacionados a um produto, serviço ou experiência. Esses aspectos podem incluir elementos concretos (como \"durabilidade\") ou subjetivos (como \"satisfação\").\n",
        "[Instruções]\n",
        "  1. Analise o texto fornecido e identifique os aspectos presentes.\n",
        "  2. Liste **somente a palavra** que representam os aspectos, sem adicionar explicações, introduções ou classificações.\n",
        "[Formato de Resposta]\n",
        "  - A resposta deve ser uma **lista simples** em português.\n",
        "  - **Cada aspecto deve aparecer em uma nova linha.**\n",
        "  - **Sem contexto, explicações ou textos adicionais.**\n",
        "[Exemplo de Resposta]\n",
        "  - Preço\n",
        "  - Atendimento\n",
        "  - Qualidade\n",
        "  - Funcionalidade\n",
        "  - Design\n",
        "[Panorama do Texto]\n",
        "  O texto analisado será uma reclamação ou avaliação de cliente, onde aspectos como **custo**, **usabilidade**, **serviço** e **durabilidade** são comuns. Identifique-os com precisão e mantenha o foco na tarefa.\n",
        "\"\"\", texto)\n"
      ]
    },
    {
      "cell_type": "code",
      "execution_count": null,
      "metadata": {
        "colab": {
          "base_uri": "https://localhost:8080/",
          "height": 89
        },
        "id": "FaCP-eSQH3Zv",
        "outputId": "1d1a93bf-6d05-4c4f-8e41-0d9c587365b5"
      },
      "outputs": [
        {
          "data": {
            "application/vnd.google.colaboratory.intrinsic+json": {
              "type": "string"
            },
            "text/plain": [
              "'• Bilhetes\\n• Passaporte\\n• Trecho\\n• Voo\\n• Conexão\\n• Data\\n• Valor\\n• Pagamento\\n• Destino final\\n• App\\n• Sistema\\n• Alteração unilateral\\n• Consentimento\\n• Destino final LAS VEGAS\\n• Destino final ATLANTA\\n• Hotel\\n• Reclamação\\n• Providências urgentes\\n• Correção\\n• E-mail\\n• Transtorno\\n• Companhia parceira\\n• Acesso\\n• Voo cancelado\\n• Trecho CUIABÁ LAS VEGAS\\n• Operadora do voo\\n• Adequação de horários\\n• Fornecimento dos bilhetes'"
            ]
          },
          "execution_count": 26,
          "metadata": {},
          "output_type": "execute_result"
        }
      ],
      "source": [
        "texto = '''relato que em 26/02/2023 adquiri 02 (dois) bilhetes aéreos - para mim e minha esposa - no site da própria LATAM nos seguintes moldes:Código de reserva: UTNBVI Número de ordem: LA9571039EYTFPassageiros: RODRIGO PIOVEZAN (Passaporte - FZ641301) e NATALIA COLLI (Passaporte   FZ341308)Trecho: CGB(Cuiabá/MT)   LAS (Las Vegas/EUA), com conexão em GRU (Guarulhos/SP) e ATL (Atlanta/EUA)Data do voo: 29/08/2023VALOR PAGO: 178.032 pontos LATAMPASS + R$ 705,08.Destaco que recebi os bilhetes eletrônicos normalmente e, na sequência, realizei nossa reserva e pagamento de hotel em LAS VEGAS.Contudo, consultando meu app LATAM, constatei que HOUVE UMA ALTERAÇÃO UNILATERAL NO MEU DESTINO FINAL SEM O MEU CONSENTIMENTO, pois, adquiri bilhetes com destino final LAS VEGAS e, agora, aparece no sistema como destino final ATLANTA, o que não foi o contratado e pago.Ocorre que não concordo com a alteração, até porque o destino final ATLANTA NÃO FOI O CONTRATADO E PAGO, MAS SIM, LAS VEGAS.Diante dessa descoberta, entrei em contato com a LATAM via FALE CONOSCO e formalizei minha reclamação em 05/06/2023 através do REGISTRO DE CASO #51357364, onde SOLICITEI PROVIDÊNCIAS URGENTES acerca da correção de meu destino final efetivamente comprado, isto é, para que volte a constar nos bilhetes adquiridos o destino final LAS VEGAS.No entanto, em data de 08/06/2023, recebi por e-mail a absurda resposta da LATAM informando o quanto segue:  Peço desculpa pelo transtorno causado. Referente ao destino final em Las Vegas o voo foi cancelado pela empresa Ibéria. Peço que entre em contato com a Empresa Ibéria para estar verificando o procedimento, pois como é companhia parceira, não temos acesso ao voo cancelado. Sendo assim daremos este caso como encerrado. .Ocorre que TODO O TRECHO (CUIABÁ   LAS VEGAS) foi adquirido junto à LATAM, não tendo havido qualquer contato deste consumidor com a empresa aérea IBÉRIA, a qual nem sequer constava em meu bilhete como operadora do voo, mas sim, a empresa DELTA, a qual faria o trecho ATL-LAS no voo LA8494.Desse modo, através dessa plataforma do Governo, SOLICITO PROVIDÊNCIAS URGENTES por parte da LATAM, a fim de que a mesma retorne o trecho final LAS VEGAS para a minha reserva, ainda que sejam necessária adequação de horários, uma vez ser obrigação da companhia aérea honrar com o fornecimento dos bilhetes nos moldes em que fora por mim contratado e pago.Reitero que o destino final por mim adquirido sempre foi LAS VEGAS, e não ATLANTA, SENDO INADMISSÍVEL QUE A LATAM ME DEIXE NO MEIO DO CAMINHO'''\n",
        "llm_laca_task(\"task = '''Extract only the **WORDS** that represent aspects in the complaint text. Aspects are specific characteristics, attributes, or components of a product, service, or experience mentioned in the text. **Display only the words, without explanations or additional information, In Portuguese**.'''\", texto)"
      ]
    },
    {
      "cell_type": "code",
      "execution_count": null,
      "metadata": {
        "collapsed": true,
        "id": "pf-n6iv8i5Mc"
      },
      "outputs": [],
      "source": [
        "#Código original\n",
        "# task ='''Extract only the **WORDS** that represent aspects in the complaint text. Aspects are specific characteristics, attributes, or components of a product, service, or experience mentioned in the text. **Display only the words, without explanations or additional information,In Portuguese**.'''\n",
        "# #Extract only the words that represent aspects in the complaint text. Display only the words, without explanations or additional information.\n",
        "\n",
        "# dic_counter = {}\n",
        "\n",
        "# L_resp = []\n",
        "\n",
        "# for index,row in df_sample.iterrows():\n",
        "#   text = '\\n\\n###\\n@Document\\n\\n'+row['report_text_decode']\n",
        "#   try_run = 0\n",
        "#   while True:\n",
        "#     try:\n",
        "#       L = llm_laca_task(task,text)\n",
        "#       if isinstance(L, str):\n",
        "#         # print(text)\n",
        "#         topic = L[0:].strip()\n",
        "#         # topic = L[0:2].strip()\n",
        "#         print('Topic:',topic)\n",
        "#         L_resp.append(topic)\n",
        "#         print(\"=========================\")\n",
        "#         break\n",
        "#     except:\n",
        "#       1\n",
        "#     try_run += 1\n",
        "#     if try_run >= 5:\n",
        "#       L_resp.append('NONE')\n",
        "#       break\n",
        "\n",
        "# print(L_resp)"
      ]
    },
    {
      "cell_type": "markdown",
      "metadata": {
        "id": "uNzRlEMgcoN-"
      },
      "source": [
        "Extrair Aspectos por CSV salvando a cada execução"
      ]
    },
    {
      "cell_type": "code",
      "execution_count": null,
      "metadata": {
        "colab": {
          "background_save": true,
          "base_uri": "https://localhost:8080/"
        },
        "id": "eQm-pFS_oXWq",
        "outputId": "a9f0da4a-13bf-44e9-a64d-3ad9d23964b4"
      },
      "outputs": [
        {
          "name": "stdout",
          "output_type": "stream",
          "text": [
            "Drive already mounted at /content/drive; to attempt to forcibly remount, call drive.mount(\"/content/drive\", force_remount=True).\n",
            "Encontrados 7 arquivos para processamento na pasta: /content/drive/MyDrive/ride_hailing/Subsets\n",
            "\n",
            "Processando arquivo: /content/drive/MyDrive/ride_hailing/Subsets/subset_parte_1.csv\n"
          ]
        },
        {
          "name": "stderr",
          "output_type": "stream",
          "text": [
            "Processando subset_parte_1.csv: 100%|██████████| 6164/6164 [3:57:36<00:00,  2.31s/it]\n"
          ]
        },
        {
          "name": "stdout",
          "output_type": "stream",
          "text": [
            "Arquivo processado e salvo como: /content/drive/MyDrive/ride_hailing/Results/processed_subset_parte_1.csv\n",
            "\n",
            "Processando arquivo: /content/drive/MyDrive/ride_hailing/Subsets/subset_parte_2.csv\n"
          ]
        },
        {
          "name": "stderr",
          "output_type": "stream",
          "text": [
            "Processando subset_parte_2.csv:   1%|          | 61/6195 [02:24<3:32:27,  2.08s/it]"
          ]
        }
      ],
      "source": [
        "#teste de prompt\n",
        "import pandas as pd\n",
        "import glob\n",
        "from tqdm import tqdm\n",
        "\n",
        "# Função para processar os arquivos CSV\n",
        "def processar_arquivos(pasta_gdrive, pasta__saida, task):\n",
        "    # Localiza todos os arquivos CSV na pasta especificada\n",
        "    arquivos = glob.glob(f\"{pasta_gdrive}/*.csv\")\n",
        "\n",
        "    print(f\"Encontrados {len(arquivos)} arquivos para processamento na pasta: {pasta_gdrive}\")\n",
        "\n",
        "    for arquivo in arquivos:\n",
        "        print(f\"\\nProcessando arquivo: {arquivo}\")\n",
        "\n",
        "        # Carregar o dataset\n",
        "        df_sample = pd.read_csv(arquivo)\n",
        "\n",
        "        # Lista para armazenar os resultados processados\n",
        "        L_resp = []\n",
        "\n",
        "        # Iterar sobre cada linha do DataFrame com barra de progresso\n",
        "        for index, row in tqdm(df_sample.iterrows(), total=df_sample.shape[0], desc=f\"Processando {arquivo.split('/')[-1]}\"):\n",
        "            text = f\"\\n\\n###\\n@Document\\n\\n{row['report_text']}\"\n",
        "            try_run = 0\n",
        "            while True:\n",
        "                try:\n",
        "                    # Executando a tarefa de extração de palavras\n",
        "                    L = llm_laca_task(task, text)  # Substitua pelo método adequado para a execução no ambiente\n",
        "                    if isinstance(L, str):\n",
        "                        topic = L.strip()  # Remover espaços extras\n",
        "                     #   print(f\"\\n--- Resultado extraído para a linha {index} ---\\n{topic}\\n\")\n",
        "                        L_resp.append(topic)\n",
        "                        break\n",
        "\n",
        "                except Exception as e:\n",
        "                    print(f\"Erro ao processar o texto: {e}\")\n",
        "                try_run += 1\n",
        "                if try_run >= 5:\n",
        "                    L_resp.append('NONE')\n",
        "                    break\n",
        "\n",
        "        # Adicionar a nova coluna com os resultados ao DataFrame\n",
        "        df_sample['document_topic'] = L_resp\n",
        "\n",
        "        # Gerar o nome do arquivo processado\n",
        "        nome_arquivo = f\"{pasta__saida}/processed_{arquivo.split('/')[-1]}\"\n",
        "\n",
        "        # Salvar o arquivo processado em CSV\n",
        "        df_sample.to_csv(nome_arquivo, index=False)\n",
        "        print(f\"Arquivo processado e salvo como: {nome_arquivo}\")\n",
        "\n",
        "# Montar o Google Drive no Colab\n",
        "from google.colab import drive\n",
        "drive.mount('/content/drive')\n",
        "\n",
        "# Caminho para a pasta no Google Drive\n",
        "pasta_gdrive = \"/content/drive/MyDrive/ride_hailing/Subsets\"\n",
        "pasta__saida = \"/content/drive/MyDrive/ride_hailing/Results\"\n",
        "\n",
        "# Task definida\n",
        "task =  \"\"\"\n",
        "[Persona]\n",
        "  Você é um especialista em processamento de linguagem natural focado em análise textual e extração precisa de *Issues* em textos de reclamação.\n",
        "[Tarefa]\n",
        "  Extraia **apenas as palavras** que representam **Issues** mencionados no texto fornecido.\n",
        "[Contexto]\n",
        "  *Issues* são características, atributos ou componentes específicos relacionados a um produto, serviço ou experiência. Esses *Issues* podem incluir elementos concretos como:\n",
        "  - Funcionamento do app (ex: falhas técnicas, travamentos)\n",
        "  - Motoristas (ex: comportamento, direção perigosa)\n",
        "  - Preço (ex: cobranças indevidas, tarifas altas)\n",
        "  - Tempo de espera, atrasos ou rotas ruins\n",
        "  - Segurança, atendimento ou qualquer outro ponto de insatisfação.\n",
        "[Instruções]\n",
        "  1. Analise o texto fornecido e identifique os *Issues* presentes.\n",
        "  2. Liste **somente a palavra** que representam os *Issues*, sem adicionar explicações, introduções ou classificações.\n",
        "[Formato de Resposta]\n",
        "- A resposta deve ser **uma lista simples**, apenas com as palavras que representam os *Issues*, **sem qualquer texto antes ou depois**.\n",
        "- **Cada *Issue* deve aparecer em uma nova linha, sozinho.**\n",
        "- **Não inclua introduções, títulos, resumos ou frases explicativas. Apenas a lista crua.**\n",
        "[Exemplo de Resposta]\n",
        "  - Cobrança indevida\n",
        "  - Atraso\n",
        "  - Aplicativo travando\n",
        "  - Motorista mal-educado\n",
        "  - Insegurança\n",
        "[Panorama do Texto]\n",
        "  O texto analisado será uma reclamação ou avaliação de cliente, onde *Issues* como **custo**, **usabilidade**, **serviço** e **durabilidade** são comuns. Identifique-os com precisão e mantenha o foco na tarefa.\n",
        "\"\"\"\n",
        "# Processar os arquivos na pasta especificada\n",
        "\n",
        "\n",
        "processar_arquivos(pasta_gdrive, pasta__saida, task)\n"
      ]
    },
    {
      "cell_type": "markdown",
      "metadata": {
        "id": "XggGePYncxzs"
      },
      "source": [
        "Plotar Gráfico com os 20 aspectos mais encontrados (tratados)"
      ]
    },
    {
      "cell_type": "code",
      "execution_count": null,
      "metadata": {
        "id": "WhE2pjWQcxkx"
      },
      "outputs": [],
      "source": [
        "####CCEERRRRRRRTTOOOOOOOOOO Antigo\n",
        "import pandas as pd\n",
        "import matplotlib.pyplot as plt\n",
        "import seaborn as sns\n",
        "from nltk.stem import WordNetLemmatizer\n",
        "import nltk\n",
        "import re\n",
        "import unicodedata\n",
        "\n",
        "df = pd.read_csv('/content/drive/MyDrive/ASPECTS/ride_hailing/Subsets/processed_subset_parte_1.csv')\n",
        "# Baixar os recursos necessários para lemmatization\n",
        "nltk.download('wordnet')\n",
        "nltk.download('omw-1.4')\n",
        "\n",
        "# Inicializar o lemmatizer\n",
        "lemmatizer = WordNetLemmatizer()\n",
        "\n",
        "# Função para normalizar palavras\n",
        "def normalize_text(text):\n",
        "    # Remover acentuação\n",
        "    text = ''.join(\n",
        "        c for c in unicodedata.normalize('NFD', text)\n",
        "        if unicodedata.category(c) != 'Mn'\n",
        "    )\n",
        "    # Transformar para minúsculas\n",
        "    text = text.lower()\n",
        "    # Remover caracteres especiais\n",
        "    text = re.sub(r'[^\\w\\s]', '', text)\n",
        "    # Remover espaços extras\n",
        "    text = text.strip()\n",
        "    # Aplicar lemmatization\n",
        "    text = lemmatizer.lemmatize(text)\n",
        "    return text\n",
        "\n",
        "# Carregar o dataset\n",
        "#df = pd.read_csv('processed_subset_parte_1.csv')\n",
        "\n",
        "# Dividir a coluna `document_topic` por linha (\"/n\") e criar colunas separadas\n",
        "topics_split = df['document_topic'].str.split('\\n', expand=True)\n",
        "\n",
        "# Anexar as novas colunas ao DataFrame original\n",
        "df = pd.concat([df, topics_split], axis=1)\n",
        "\n",
        "# Identificar as colunas criadas a partir de `document_topic`\n",
        "topic_columns = topics_split.columns\n",
        "\n",
        "# Empilhar todas as colunas de tópicos em uma única série\n",
        "topics_flat = df[topic_columns].stack()\n",
        "\n",
        "# Remover valores nulos\n",
        "topics_flat = topics_flat.dropna()\n",
        "\n",
        "# Aplicar a normalização em cada palavra\n",
        "topics_flat = topics_flat.apply(normalize_text)\n",
        "\n",
        "# Substituir palavras mal grafadas ou variações manuais\n",
        "topics_flat = topics_flat.replace({\n",
        "    \"passagen\": \"passagem\",\n",
        "    \"passagens\": \"passagem\",\n",
        "    \"voos\": \"voo\",\n",
        "    \"bilhetes\": \"bilhete\",\n",
        "    # Adicione outros mapeamentos se necessário\n",
        "})\n",
        "\n",
        "# Contar as ocorrências de palavras únicas\n",
        "word_counts = topics_flat.value_counts()\n",
        "\n",
        "# Exibir o número total de palavras únicas extraídas\n",
        "total_words = word_counts.shape[0]\n",
        "print(f\"Número total de palavras únicas extraídas: {total_words}\")\n",
        "\n",
        "# Transformar a saída em um DataFrame\n",
        "df_table = word_counts.reset_index()\n",
        "df_table.columns = [\"Palavra\", \"Contagem\"]\n",
        "\n",
        "# Exibir os 20 primeiros registros para validação\n",
        "print(df_table.head(100))\n",
        "\n",
        "# Criar um gráfico de barras para as top 20 palavras\n",
        "plt.figure(figsize=(20, 10))\n",
        "ax = sns.barplot(x=\"Contagem\", y=\"Palavra\", data=df_table.head(20), palette=\"viridis\")\n",
        "plt.title(\"Top 20 Aspectos mais frequentes Primeira versão\", fontsize= 15)\n",
        "plt.xlabel(\"Ocorrência\", fontsize=15)\n",
        "plt.ylabel(\"Aspecto\", fontsize=15)\n",
        "plt.xticks(fontsize=12)\n",
        "plt.yticks(fontsize=18)\n",
        "plt.tight_layout()\n",
        "\n",
        "# Adicionar os valores ao lado de cada barra\n",
        "for i, value in enumerate(df_table.head(20)[\"Contagem\"]):\n",
        "    ax.text(value + 1, i, str(value), color=\"black\", va=\"center\", fontsize=15)\n",
        "\n",
        "\n",
        "# Salvar o gráfico\n",
        "plt.savefig(\"grafico_barras_top_20_palavras_normalizadas.png\")\n",
        "plt.show()\n",
        "\n",
        "# Salvar a tabela com todas as palavras\n",
        "df_table.to_csv(\"contagem_palavras_completa_norm_30k.csv\", index=False)\n",
        "\n",
        "print(\"Tabela de contagem de palavras salva com sucesso!\")\n"
      ]
    },
    {
      "cell_type": "markdown",
      "metadata": {
        "id": "RnwmOKdaZSi2"
      },
      "source": []
    },
    {
      "cell_type": "code",
      "execution_count": null,
      "metadata": {
        "id": "fEbgNOxgcznZ"
      },
      "outputs": [],
      "source": [
        "####Nova versão normalização\n",
        "import pandas as pd\n",
        "import matplotlib.pyplot as plt\n",
        "import seaborn as sns\n",
        "from nltk.stem import WordNetLemmatizer\n",
        "import nltk\n",
        "import re\n",
        "import unicodedata\n",
        "\n",
        "# Baixar os recursos necessários para lemmatization e stopwords\n",
        "nltk.download('wordnet')\n",
        "nltk.download('omw-1.4')\n",
        "nltk.download('stopwords')\n",
        "\n",
        "# Inicializar o lemmatizer\n",
        "lemmatizer = WordNetLemmatizer()\n",
        "\n",
        "# Função para normalizar palavras\n",
        "def normalize_text(text):\n",
        "    # Remover acentuação\n",
        "    text_normalized = ''.join(\n",
        "        c for c in unicodedata.normalize('NFD', text)\n",
        "        if unicodedata.category(c) != 'Mn'\n",
        "    )\n",
        "    # Transformar para minúsculas\n",
        "    text_normalized = text_normalized.lower()\n",
        "    # Remover caracteres especiais\n",
        "    text_normalized = re.sub(r'[^\\w\\s]', '', text_normalized)\n",
        "    # Remover espaços extras\n",
        "    text_normalized = text_normalized.strip()\n",
        "\n",
        "    # Substituir variações de \"taxa\" diretamente\n",
        "    if re.search(r'\\btax[a-z]*\\b', text_normalized):  # Qualquer palavra que comece com 'tax'\n",
        "        if text_normalized != \"taxon\":\n",
        "            text_normalized = 'taxa'\n",
        "\n",
        "    # Aplicar lemmatization\n",
        "    text_normalized = lemmatizer.lemmatize(text_normalized)\n",
        "\n",
        "    # Garantir que \"taxa\" não seja transformado em \"taxon\"\n",
        "    if text_normalized == \"taxon\":\n",
        "        text_normalized = \"taxa\"\n",
        "\n",
        "    return text_normalized\n",
        "\n",
        "# Carregar o dataset\n",
        "df = pd.read_csv('/content/drive/My Drive/ASPECTS/Teste_prompt/processed_Cópia de subset_parte_1.csv')\n",
        "\n",
        "# Dividir a coluna `document_topic` por linha (\"/n\") e criar colunas separadas\n",
        "topics_split = df['document_topic'].str.split('\\n', expand=True)\n",
        "\n",
        "# Anexar as novas colunas ao DataFrame original\n",
        "df = pd.concat([df, topics_split], axis=1)\n",
        "\n",
        "# Identificar as colunas criadas a partir de `document_topic`\n",
        "topic_columns = topics_split.columns\n",
        "\n",
        "# Empilhar todas as colunas de tópicos em uma única série\n",
        "topics_flat = df[topic_columns].stack()\n",
        "\n",
        "# Remover valores nulos\n",
        "topics_flat = topics_flat.dropna()\n",
        "\n",
        "# Aplicar a normalização em cada palavra\n",
        "topics_flat_normalized = topics_flat.apply(normalize_text)\n",
        "\n",
        "# Verificar as palavras relacionadas a 'taxon' e 'taxa' após normalização\n",
        "taxon_occurrences = topics_flat_normalized[topics_flat_normalized.str.contains(r'\\btaxon\\b', case=False)]\n",
        "\n",
        "print(f\"Ocorrências de 'taxon' após normalização: {taxon_occurrences.shape[0]}\")\n",
        "\n",
        "# Contar as ocorrências de palavras únicas\n",
        "word_counts = topics_flat_normalized.value_counts()\n",
        "\n",
        "# Exibir o número total de palavras únicas extraídas\n",
        "total_words = word_counts.shape[0]\n",
        "print(f\"Número total de palavras únicas extraídas: {total_words}\")\n",
        "\n",
        "# Transformar a saída em um DataFrame\n",
        "df_table = word_counts.reset_index()\n",
        "df_table.columns = [\"Palavra\", \"Contagem\"]\n",
        "\n",
        "# Exibir as 50 primeiras palavras mais frequentes para validação\n",
        "# print(df_table.head(50))\n",
        "print(df_table.head(20))\n",
        "# Criar um gráfico de barras para as 50 palavras mais frequentes\n",
        "plt.figure(figsize=(20, 10))\n",
        "ax = sns.barplot(x=\"Contagem\", y=\"Palavra\", data=df_table.head(20), palette=\"viridis\")\n",
        "plt.title(\"Top 20 Aspectos mais frequentes\", fontsize= 15)\n",
        "plt.xlabel(\"Ocorrência\", fontsize=15)\n",
        "plt.ylabel(\"Aspecto\", fontsize=15)\n",
        "plt.xticks(fontsize=12)#12\n",
        "plt.yticks(fontsize=18)#18\n",
        "plt.tight_layout()\n",
        "\n",
        "# Adicionar os valores ao lado de cada barra\n",
        "for i, value in enumerate(df_table.head(20)[\"Contagem\"]):\n",
        "    ax.text(value + 1, i, str(value), color=\"black\", va=\"center\", fontsize=15)\n",
        "\n",
        "# Salvar o gráfico\n",
        "plt.savefig(\"grafico_barras_top_20_palavras_normalizadas.png\")\n",
        "plt.show()\n",
        "\n",
        "# Salvar a tabela com todas as palavras\n",
        "df_table.to_csv(\"contagem_palavras_completa_norm_20.csv\", index=False)\n",
        "\n",
        "print(\"Tabela de contagem de palavras salva com sucesso!\")\n"
      ]
    },
    {
      "cell_type": "code",
      "execution_count": null,
      "metadata": {
        "id": "AE94aO1ANzrC"
      },
      "outputs": [],
      "source": [
        "import pandas as pd\n",
        "import matplotlib.pyplot as plt\n",
        "import seaborn as sns\n",
        "from nltk.stem import WordNetLemmatizer\n",
        "import nltk\n",
        "import re\n",
        "import unicodedata\n",
        "\n",
        "# Baixar os recursos necessários para lemmatization e stopwords\n",
        "nltk.download('wordnet')\n",
        "nltk.download('omw-1.4')\n",
        "nltk.download('stopwords')\n",
        "\n",
        "# Inicializar o lemmatizer\n",
        "lemmatizer = WordNetLemmatizer()\n",
        "\n",
        "# Função para normalizar palavras\n",
        "def normalize_text(text):\n",
        "    # Remover acentuação\n",
        "    text_normalized = ''.join(\n",
        "        c for c in unicodedata.normalize('NFD', text)\n",
        "        if unicodedata.category(c) != 'Mn'\n",
        "    )\n",
        "    # Transformar para minúsculas\n",
        "    text_normalized = text_normalized.lower()\n",
        "    # Remover caracteres especiais\n",
        "    text_normalized = re.sub(r'[^\\w\\s]', '', text_normalized)\n",
        "    # Remover espaços extras\n",
        "    text_normalized = text_normalized.strip()\n",
        "\n",
        "    # Substituir variações de \"taxa\" diretamente\n",
        "    if re.search(r'\\btax[a-z]*\\b', text_normalized):  # Qualquer palavra que comece com 'tax'\n",
        "        if text_normalized != \"taxon\":\n",
        "            text_normalized = 'taxa'\n",
        "\n",
        "    # Aplicar lemmatization\n",
        "    text_normalized = lemmatizer.lemmatize(text_normalized)\n",
        "\n",
        "    # Garantir que \"taxa\" não seja transformado em \"taxon\"\n",
        "    if text_normalized == \"taxon\":\n",
        "        text_normalized = \"taxa\"\n",
        "\n",
        "    return text_normalized\n",
        "\n",
        "# Carregar o dataset\n",
        "df = pd.read_csv('/content/drive/My Drive/ASPECTS/Teste_prompt/processed_Cópia de subset_parte_1.csv')\n",
        "\n",
        "# Dividir a coluna `document_topic` por linha (\"/n\") e criar colunas separadas\n",
        "topics_split = df['document_topic'].str.split('\\n', expand=True)\n",
        "\n",
        "# Anexar as novas colunas ao DataFrame original\n",
        "df = pd.concat([df, topics_split], axis=1)\n",
        "\n",
        "# Identificar as colunas criadas a partir de `document_topic`\n",
        "topic_columns = topics_split.columns\n",
        "\n",
        "# Contar palavras antes da normalização\n",
        "# Empilhar todas as colunas de tópicos em uma única série\n",
        "topics_flat_before = df[topic_columns].stack()\n",
        "\n",
        "# Remover valores nulos\n",
        "topics_flat_before = topics_flat_before.dropna()\n",
        "\n",
        "# Contar o número total de palavras antes da normalização\n",
        "word_counts_before = topics_flat_before.value_counts()\n",
        "total_words_before = word_counts_before.shape[0]\n",
        "print(f\"Número total de palavras únicas antes da normalização: {total_words_before}\")\n",
        "\n",
        "# Aplicar a normalização em cada palavra\n",
        "topics_flat_normalized = topics_flat_before.apply(normalize_text)\n",
        "\n",
        "# Contar o número total de palavras após a normalização\n",
        "word_counts_after = topics_flat_normalized.value_counts()\n",
        "total_words_after = word_counts_after.shape[0]\n",
        "print(f\"Número total de palavras únicas após a normalização: {total_words_after}\")\n",
        "\n",
        "# Verificar as palavras relacionadas a 'taxon' e 'taxa' após normalização\n",
        "taxon_occurrences = topics_flat_normalized[topics_flat_normalized.str.contains(r'\\btaxon\\b', case=False)]\n",
        "print(f\"Ocorrências de 'taxon' após normalização: {taxon_occurrences.shape[0]}\")\n",
        "\n",
        "# Transformar a saída em um DataFrame para palavras normalizadas\n",
        "df_table_normalized = word_counts_after.reset_index()\n",
        "df_table_normalized.columns = [\"Palavra\", \"Contagem\"]\n",
        "\n",
        "# Criar um DataFrame para comparar palavras antes e depois\n",
        "comparison_table = pd.DataFrame({\n",
        "    \"Palavra Antes\": word_counts_before.index,\n",
        "    \"Contagem Antes\": word_counts_before.values\n",
        "}).merge(\n",
        "    pd.DataFrame({\n",
        "        \"Palavra Depois\": word_counts_after.index,\n",
        "        \"Contagem Depois\": word_counts_after.values\n",
        "    }),\n",
        "    left_on=\"Palavra Antes\",\n",
        "    right_on=\"Palavra Depois\",\n",
        "    how=\"outer\"\n",
        ").fillna(0)\n",
        "\n",
        "# Salvar a tabela de comparação\n",
        "comparison_table.to_csv(\"comparacao_palavras.csv\", index=False)\n",
        "print(\"Tabela de comparação salva com sucesso!\")\n",
        "\n",
        "# Exibir as 50 primeiras palavras mais frequentes após a normalização\n",
        "print(df_table_normalized.head(50))\n",
        "\n",
        "# Criar um gráfico de barras para as 50 palavras mais frequentes\n",
        "plt.figure(figsize=(20, 10))\n",
        "ax = sns.barplot(x=\"Contagem\", y=\"Palavra\", data=df_table_normalized.head(50), palette=\"viridis\")\n",
        "plt.title(\"Top 50 Palavras Mais Frequentes Após Normalização\", fontsize=15)\n",
        "plt.xlabel(\"Ocorrência\", fontsize=15)\n",
        "plt.ylabel(\"Palavra\", fontsize=15)\n",
        "plt.xticks(fontsize=8)\n",
        "plt.yticks(fontsize=8)\n",
        "plt.tight_layout()\n",
        "\n",
        "# Adicionar os valores ao lado de cada barra\n",
        "for i, value in enumerate(df_table_normalized.head(50)[\"Contagem\"]):\n",
        "    ax.text(value + 1, i, str(value), color=\"black\", va=\"center\", fontsize=10)\n",
        "\n",
        "# Salvar o gráfico\n",
        "plt.savefig(\"grafico_barras_top_50_palavras_normalizadas.png\")\n",
        "plt.show()\n",
        "\n",
        "# Salvar a tabela com todas as palavras normalizadas\n",
        "df_table_normalized.to_csv(\"contagem_palavras_normalizadas.csv\", index=False)\n",
        "print(\"Tabela de palavras normalizadas salva com sucesso!\")\n"
      ]
    },
    {
      "cell_type": "code",
      "execution_count": null,
      "metadata": {
        "id": "D2ESN3v0Sxi4"
      },
      "outputs": [],
      "source": [
        "import pandas as pd\n",
        "import matplotlib.pyplot as plt\n",
        "import seaborn as sns\n",
        "from nltk.stem import WordNetLemmatizer\n",
        "import nltk\n",
        "import re\n",
        "import unicodedata\n",
        "\n",
        "# Baixar os recursos necessários para lemmatization\n",
        "nltk.download('wordnet')\n",
        "nltk.download('omw-1.4')\n",
        "\n",
        "# Inicializar o lemmatizer\n",
        "lemmatizer = WordNetLemmatizer()\n",
        "\n",
        "# Função para normalizar palavras com transformação para o singular\n",
        "def normalize_text(text):\n",
        "    # Remover acentuação\n",
        "    text = ''.join(\n",
        "        c for c in unicodedata.normalize('NFD', text)\n",
        "        if unicodedata.category(c) != 'Mn'\n",
        "    )\n",
        "    # Transformar para minúsculas\n",
        "    text = text.lower()\n",
        "    # Remover caracteres especiais\n",
        "    text = re.sub(r'[^\\w\\s]', '', text)\n",
        "    # Remover espaços extras\n",
        "    text = text.strip()\n",
        "\n",
        "    # Substituir palavras relacionadas a 'taxa' (evitar 'taxon')\n",
        "    if re.search(r'\\btax[a-z]*\\b', text):  # Qualquer palavra que comece com 'tax'\n",
        "        if text != \"taxon\":\n",
        "            text = \"taxa\"\n",
        "\n",
        "    # Aplicar lemmatization para converter para o singular\n",
        "    text = lemmatizer.lemmatize(text)\n",
        "\n",
        "    # Garantir que 'taxon' não seja mantido (convertido para 'taxa')\n",
        "    if text == \"taxon\":\n",
        "        text = \"taxa\"\n",
        "\n",
        "    return text\n",
        "\n",
        "# Carregar o dataset\n",
        "df = pd.read_csv('/content/drive/My Drive/ASPECTS/Teste_prompt/processed_Cópia de subset_parte_1.csv')\n",
        "\n",
        "# Dividir a coluna `document_topic` por linha (\"/n\") e criar colunas separadas\n",
        "topics_split = df['document_topic'].str.split('\\n', expand=True)\n",
        "\n",
        "# Anexar as novas colunas ao DataFrame original\n",
        "df = pd.concat([df, topics_split], axis=1)\n",
        "\n",
        "# Identificar as colunas criadas a partir de `document_topic`\n",
        "topic_columns = topics_split.columns\n",
        "\n",
        "# Empilhar todas as colunas de tópicos em uma única série\n",
        "topics_flat_before = df[topic_columns].stack()\n",
        "\n",
        "# Remover valores nulos (antes da normalização)\n",
        "topics_flat_before = topics_flat_before.dropna()\n",
        "\n",
        "# Contar o número total de palavras únicas antes da normalização\n",
        "word_counts_before = topics_flat_before.value_counts()\n",
        "total_words_before = word_counts_before.shape[0]\n",
        "print(f\"Número total de palavras únicas antes da normalização: {total_words_before}\")\n",
        "\n",
        "# Aplicar a normalização em cada palavra com a nova função\n",
        "topics_flat_after = topics_flat_before.apply(normalize_text)\n",
        "\n",
        "# Substituir palavras mal grafadas ou variações manuais\n",
        "topics_flat_after = topics_flat_after.replace({\n",
        "    \"passagen\": \"passagem\",\n",
        "    \"passagens\": \"passagem\",\n",
        "    \"voos\": \"voo\",\n",
        "    \"bilhetes\": \"bilhete\",\n",
        "    # Adicione outros mapeamentos se necessário\n",
        "})\n",
        "\n",
        "# Contar as ocorrências de palavras únicas após a normalização\n",
        "word_counts_after = topics_flat_after.value_counts()\n",
        "\n",
        "# Exibir o número total de palavras únicas extraídas após normalização\n",
        "total_words_after = word_counts_after.shape[0]\n",
        "print(f\"Número total de palavras únicas extraídas: {total_words_after}\")\n",
        "\n",
        "# Criar uma tabela de comparação antes e depois da normalização\n",
        "comparison_table = pd.DataFrame({\n",
        "    \"Antes da Normalização\": topics_flat_before,\n",
        "    \"Depois da Normalização\": topics_flat_after\n",
        "})\n",
        "\n",
        "# Salvar a tabela de comparação\n",
        "comparison_table.to_csv(\"comparacao_palavras_antes_depoisaaaaaaaaaaa.csv\", index=False)\n",
        "\n",
        "# Transformar a saída em um DataFrame para palavras após a normalização\n",
        "df_table_after = word_counts_after.reset_index()\n",
        "df_table_after.columns = [\"Palavra\", \"Contagem\"]\n",
        "\n",
        "# Exibir os 20 primeiros registros para validação\n",
        "print(df_table_after.head(100))\n",
        "\n",
        "# Criar um gráfico de barras para as top 20 palavras\n",
        "plt.figure(figsize=(20, 10))\n",
        "ax = sns.barplot(x=\"Contagem\", y=\"Palavra\", data=df_table_after.head(100), palette=\"viridis\")\n",
        "plt.title(\"Top 20 Aspectos mais frequentes (versão com ajustes e singularização)\", fontsize=15)\n",
        "plt.xlabel(\"Ocorrência\", fontsize=15)\n",
        "plt.ylabel(\"Aspecto\", fontsize=15)\n",
        "plt.xticks(fontsize=8)\n",
        "plt.yticks(fontsize=8)\n",
        "plt.tight_layout()\n",
        "\n",
        "# Adicionar os valores ao lado de cada barra\n",
        "for i, value in enumerate(df_table_after.head(100)[\"Contagem\"]):\n",
        "    ax.text(value + 1, i, str(value), color=\"black\", va=\"center\", fontsize=15)\n",
        "\n",
        "# Salvar o gráfico\n",
        "plt.savefig(\"grafico_barras_top_20_palavras_normalizadas_ajustes.png\")\n",
        "plt.show()\n",
        "\n",
        "# Salvar a tabela com palavras normalizadas\n",
        "df_table_after.to_csv(\"contagem_palavras_completa_norm_ajustada.csv\", index=False)\n",
        "\n",
        "print(\"Tabela de contagem de palavras salva com sucesso!\")\n",
        "print(\"Tabela de comparação antes e depois da normalização salva com sucesso!\")\n"
      ]
    }
  ],
  "metadata": {
    "accelerator": "GPU",
    "colab": {
      "gpuType": "T4",
      "machine_shape": "hm",
      "provenance": [],
      "include_colab_link": true
    },
    "kernelspec": {
      "display_name": "Python 3",
      "name": "python3"
    },
    "language_info": {
      "name": "python"
    }
  },
  "nbformat": 4,
  "nbformat_minor": 0
}